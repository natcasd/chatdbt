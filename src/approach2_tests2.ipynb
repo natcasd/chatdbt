{
 "cells": [
  {
   "cell_type": "code",
   "execution_count": 1,
   "metadata": {},
   "outputs": [],
   "source": [
    "import json\n",
    "\n",
    "def get_dataset(dataset_string):\n",
    "  with open(dataset_string, 'r') as file:\n",
    "      data = json.load(file)\n",
    "  return data"
   ]
  },
  {
   "cell_type": "code",
   "execution_count": 7,
   "metadata": {},
   "outputs": [
    {
     "name": "stdout",
     "output_type": "stream",
     "text": [
      "Gemini client initialized with model: gemini-2.5-flash-preview-04-17\n"
     ]
    }
   ],
   "source": [
    "from llms.llm_interaction import GroqClient, GeminiClient\n",
    "\n",
    "patient_records2 = get_dataset('datasets/patient_records2.json')\n",
    "llm_client = GeminiClient(model=\"gemini-2.5-flash-preview-04-17\")"
   ]
  },
  {
   "cell_type": "code",
   "execution_count": 8,
   "metadata": {},
   "outputs": [
    {
     "name": "stdout",
     "output_type": "stream",
     "text": [
      "Processing 1 records...\n",
      "\n",
      "================================================================================\n",
      "Patient Record:\n",
      "ADMISSION DIAGNOSIS\n",
      "The patient is an eighty-five-year-old retiree who presented with community-acquired pneumonia, requiring hospitalization for severe symptoms and signs of respiratory failure. On admission, the primary goal was to provide supportive care with supplemental oxygen therapy, and antimicrobial treatment was empirically started after appropriate cultures were obtained.\n",
      "\n",
      "HISTORY OF PRESENT ILLNESS\n",
      "Upon initial assessment, the patient reported feeling severely unwell over the preceding three days, exhibiting high fevers and dyspnea that gradually worsened. Prior to presentation, episodes of coughing had resulted in moderate production of yellowish sputum, which raised concern among family members, leading to the decision to seek medical help due to a marked decline in condition, especially as the patient's symptoms intensified and were nonresponsive to over-the-counter medications at home.\n",
      "\n",
      "PAST MEDICAL HISTORY\n",
      "This patient's past health history was noteworthy for a significant diagnosis of stage iiic breast cancer diagnosed two years ago, for which surgical intervention occurred. Postoperative recovery and follow-up adjuvant therapy, however, only consisted of hormone treatment given the age and wishes of the patient. Notably, medication lists included omeprazole, metoprolol, simvastatin, aspirin, metformin for controlled, noninsulin dependent type two diabetes, with blood work indicating generally good blood glucose levels as per hemoglobin A1C readings, alongside blood pressure values under excellent command thanks to well managed antihypertensives as well.\n",
      "\n",
      "SOCIAL HISTORY\n",
      "Living independently prior to admission without family and being largely home-based, she received care from home helpers when required for grocery runs or basic household upkeep assistance but essentially managed alone since the loss of a lifelong companion over a year ago. Smoking never was practiced in this patient's life while regular use occurred for alcohol in moderate, occasional settings.\n",
      "\n",
      "PHYSICAL EXAMINATION\n",
      "During physical exam after a careful patient gown changing procedure and before starting radiation detection for diagnostic confirmation with necessary shielding and appropriate personnel protective gear worn by hospital personnel performing an intervention - the presence of decreased air entry was clearly audible alongside crackles predominantly localised in one section and wheezing throughout several lung areas, which is highly typical in cases of acute respiratory infection that the elderly are susceptible to and can rapidly take an extremely complicated turn for without an instant and well-arranged multidisciplinary response and therapy.\n",
      "\n",
      "LABORATORY DATA\n",
      "Laboratory analysis showed low arterial oxygen levels without supplemental oxygen assistance along and increased blood cell indices indicative of acute infection as well as a somewhat increased creatinine value indicative but not strongly suggestive of possible beginning acute kidney injury secondary to possibly the ongoing infection and decreased mobility, though hydration and careful renal function observation in the clinical course have so far prevented acute complications and kept patient safety the number one issue while managing patient comfort effectively and efficiently in a compassionate well-orchestrated multidisciplinary clinical process with full burn specialist input.\n",
      "\n",
      "HOSPITAL COURSE\n",
      "In summary after thorough examination following an aggressive therapeutic strategy consisting mostly of intravenous medication administration coupled with appropriate, necessary monitoring of potential complications that can be related to both, the condition being treated or the method through which a disease state is actively fought off using drugs as was the case here with a high, careful, watchful clinical gaze always being exercised throughout and also with good, compassionate, holistic and skilled care by our dedicated, highly professional multidisciplinary medical and ancillary staff teams, significant positive patient symptom relief\n",
      "\n",
      "Semantic Regex: <radiation_therapy><patient><radiation_burn>\n",
      "Failed to parse response as list of tuples: \n",
      "\n",
      "Extracted Symbols List:\n",
      "FSM Result: Some required symbols are missing: {'radiation_therapy', 'radiation_burn', 'patient'}\n",
      "Model prediction: False, Actual: False\n",
      "================================================================================\n",
      "accuracy of model over 1 generated records: 1.0\n",
      "precision of model over 1 generated records: 0.0\n",
      "recall of model over 1 generated records: 0.0\n",
      "f1 of model over 1 generated records: 0.0\n",
      "Processing 1 records...\n",
      "\n",
      "================================================================================\n",
      "Patient Record:\n",
      "ADMISSION DIAGNOSIS\n",
      "The patient is an eighty-five-year-old retiree who presented with community-acquired pneumonia, requiring hospitalization for severe symptoms and signs of respiratory failure. On admission, the primary goal was to provide supportive care with supplemental oxygen therapy, and antimicrobial treatment was empirically started after appropriate cultures were obtained.\n",
      "\n",
      "HISTORY OF PRESENT ILLNESS\n",
      "Upon initial assessment, the patient reported feeling severely unwell over the preceding three days, exhibiting high fevers and dyspnea that gradually worsened. Prior to presentation, episodes of coughing had resulted in moderate production of yellowish sputum, which raised concern among family members, leading to the decision to seek medical help due to a marked decline in condition, especially as the patient's symptoms intensified and were nonresponsive to over-the-counter medications at home.\n",
      "\n",
      "PAST MEDICAL HISTORY\n",
      "This patient's past health history was noteworthy for a significant diagnosis of stage iiic breast cancer diagnosed two years ago, for which surgical intervention occurred. Postoperative recovery and follow-up adjuvant therapy, however, only consisted of hormone treatment given the age and wishes of the patient. Notably, medication lists included omeprazole, metoprolol, simvastatin, aspirin, metformin for controlled, noninsulin dependent type two diabetes, with blood work indicating generally good blood glucose levels as per hemoglobin A1C readings, alongside blood pressure values under excellent command thanks to well managed antihypertensives as well.\n",
      "\n",
      "SOCIAL HISTORY\n",
      "Living independently prior to admission without family and being largely home-based, she received care from home helpers when required for grocery runs or basic household upkeep assistance but essentially managed alone since the loss of a lifelong companion over a year ago. Smoking never was practiced in this patient's life while regular use occurred for alcohol in moderate, occasional settings.\n",
      "\n",
      "PHYSICAL EXAMINATION\n",
      "During physical exam after a careful patient gown changing procedure and before starting radiation detection for diagnostic confirmation with necessary shielding and appropriate personnel protective gear worn by hospital personnel performing an intervention - the presence of decreased air entry was clearly audible alongside crackles predominantly localised in one section and wheezing throughout several lung areas, which is highly typical in cases of acute respiratory infection that the elderly are susceptible to and can rapidly take an extremely complicated turn for without an instant and well-arranged multidisciplinary response and therapy.\n",
      "\n",
      "LABORATORY DATA\n",
      "Laboratory analysis showed low arterial oxygen levels without supplemental oxygen assistance along and increased blood cell indices indicative of acute infection as well as a somewhat increased creatinine value indicative but not strongly suggestive of possible beginning acute kidney injury secondary to possibly the ongoing infection and decreased mobility, though hydration and careful renal function observation in the clinical course have so far prevented acute complications and kept patient safety the number one issue while managing patient comfort effectively and efficiently in a compassionate well-orchestrated multidisciplinary clinical process with full burn specialist input.\n",
      "\n",
      "HOSPITAL COURSE\n",
      "In summary after thorough examination following an aggressive therapeutic strategy consisting mostly of intravenous medication administration coupled with appropriate, necessary monitoring of potential complications that can be related to both, the condition being treated or the method through which a disease state is actively fought off using drugs as was the case here with a high, careful, watchful clinical gaze always being exercised throughout and also with good, compassionate, holistic and skilled care by our dedicated, highly professional multidisciplinary medical and ancillary staff teams, significant positive patient symptom relief\n",
      "\n",
      "Semantic Regex: <radiation_therapy><patient><radiation_burn>\n",
      "\n",
      "Annotated Record:\n",
      "\n",
      "\n",
      "Extracted Symbols List:\n",
      "FSM Result: Some required symbols are missing: {'radiation_therapy', 'radiation_burn', 'patient'}\n",
      "Model prediction: False, Actual: False\n",
      "================================================================================\n",
      "accuracy of model over 1 generated records: 1.0\n",
      "precision of model over 1 generated records: 0.0\n",
      "recall of model over 1 generated records: 0.0\n",
      "f1 of model over 1 generated records: 0.0\n",
      "Processing 1 records...\n",
      "\n",
      "================================================================================\n",
      "Patient Record:\n",
      "ADMISSION DIAGNOSIS\n",
      "The patient is an eighty-five-year-old retiree who presented with community-acquired pneumonia, requiring hospitalization for severe symptoms and signs of respiratory failure. On admission, the primary goal was to provide supportive care with supplemental oxygen therapy, and antimicrobial treatment was empirically started after appropriate cultures were obtained.\n",
      "\n",
      "HISTORY OF PRESENT ILLNESS\n",
      "Upon initial assessment, the patient reported feeling severely unwell over the preceding three days, exhibiting high fevers and dyspnea that gradually worsened. Prior to presentation, episodes of coughing had resulted in moderate production of yellowish sputum, which raised concern among family members, leading to the decision to seek medical help due to a marked decline in condition, especially as the patient's symptoms intensified and were nonresponsive to over-the-counter medications at home.\n",
      "\n",
      "PAST MEDICAL HISTORY\n",
      "This patient's past health history was noteworthy for a significant diagnosis of stage iiic breast cancer diagnosed two years ago, for which surgical intervention occurred. Postoperative recovery and follow-up adjuvant therapy, however, only consisted of hormone treatment given the age and wishes of the patient. Notably, medication lists included omeprazole, metoprolol, simvastatin, aspirin, metformin for controlled, noninsulin dependent type two diabetes, with blood work indicating generally good blood glucose levels as per hemoglobin A1C readings, alongside blood pressure values under excellent command thanks to well managed antihypertensives as well.\n",
      "\n",
      "SOCIAL HISTORY\n",
      "Living independently prior to admission without family and being largely home-based, she received care from home helpers when required for grocery runs or basic household upkeep assistance but essentially managed alone since the loss of a lifelong companion over a year ago. Smoking never was practiced in this patient's life while regular use occurred for alcohol in moderate, occasional settings.\n",
      "\n",
      "PHYSICAL EXAMINATION\n",
      "During physical exam after a careful patient gown changing procedure and before starting radiation detection for diagnostic confirmation with necessary shielding and appropriate personnel protective gear worn by hospital personnel performing an intervention - the presence of decreased air entry was clearly audible alongside crackles predominantly localised in one section and wheezing throughout several lung areas, which is highly typical in cases of acute respiratory infection that the elderly are susceptible to and can rapidly take an extremely complicated turn for without an instant and well-arranged multidisciplinary response and therapy.\n",
      "\n",
      "LABORATORY DATA\n",
      "Laboratory analysis showed low arterial oxygen levels without supplemental oxygen assistance along and increased blood cell indices indicative of acute infection as well as a somewhat increased creatinine value indicative but not strongly suggestive of possible beginning acute kidney injury secondary to possibly the ongoing infection and decreased mobility, though hydration and careful renal function observation in the clinical course have so far prevented acute complications and kept patient safety the number one issue while managing patient comfort effectively and efficiently in a compassionate well-orchestrated multidisciplinary clinical process with full burn specialist input.\n",
      "\n",
      "HOSPITAL COURSE\n",
      "In summary after thorough examination following an aggressive therapeutic strategy consisting mostly of intravenous medication administration coupled with appropriate, necessary monitoring of potential complications that can be related to both, the condition being treated or the method through which a disease state is actively fought off using drugs as was the case here with a high, careful, watchful clinical gaze always being exercised throughout and also with good, compassionate, holistic and skilled care by our dedicated, highly professional multidisciplinary medical and ancillary staff teams, significant positive patient symptom relief\n",
      "\n",
      "Semantic Regex: <radiation_therapy><patient><radiation_burn>\n",
      "\n",
      "Annotated Record:\n",
      "\n",
      "Failed to parse response as list of tuples: Please provide the annotated medical record text. The input is currently empty.\n",
      "\n",
      "Extracted Symbols List:\n",
      "FSM Result: Some required symbols are missing: {'radiation_therapy', 'radiation_burn', 'patient'}\n",
      "Model prediction: False, Actual: False\n",
      "================================================================================\n",
      "accuracy of model over 1 generated records: 1.0\n",
      "precision of model over 1 generated records: 0.0\n",
      "recall of model over 1 generated records: 0.0\n",
      "f1 of model over 1 generated records: 0.0\n"
     ]
    }
   ],
   "source": [
    "from approaches.approach2 import approach2_base, approach2_annotate\n",
    "\n",
    "dataset = patient_records2[7:8]\n",
    "\n",
    "res_base = approach2_base(dataset, llm_client, order_sensitive=False, verbose=True)\n",
    "res_annotate_manual = approach2_annotate(dataset, llm_client, order_sensitive=False, verbose=True, manual_extraction=True)\n",
    "res_annotate_auto = approach2_annotate(dataset, llm_client, order_sensitive=False, verbose=True, manual_extraction=False)"
   ]
  },
  {
   "cell_type": "code",
   "execution_count": 23,
   "metadata": {},
   "outputs": [
    {
     "name": "stdout",
     "output_type": "stream",
     "text": [
      "Indexes where predictions failed: [7, 9, 13, 15, 17, 18, 19]\n"
     ]
    }
   ],
   "source": [
    "failed_indexes = [i for i, (pred, true) in enumerate(zip(res_annotate_auto['pred'], res_annotate_auto['true'])) if pred != true]\n",
    "print(f\"Indexes where predictions failed: {failed_indexes}\")\n"
   ]
  },
  {
   "cell_type": "code",
   "execution_count": 21,
   "metadata": {},
   "outputs": [
    {
     "name": "stdout",
     "output_type": "stream",
     "text": [
      "{'s_regex': '<drug><patient><organ_damage>', 'record': 'ADMISSION DIAGNOSIS \\nThe patient is a sixty-year-old retired mechanic who presented to the emergency department with symptoms of acute kidney impairment secondary to obstructive nephropathy due to kidney stones. \\n\\nHISTORY OF PRESENT ILLNESS\\nThe patient reported experiencing severe abdominal pain radiating to his back accompanied by nausea and vomiting for approximately two days. He admitted to taking over-the-counter anti-inflammatory medications, including acetaminophen to help manage symptoms but with little relief.\\n\\nPAST MEDICAL HISTORY\\nHe has hypertension for which he is treated with losartan and atorvastatin for elevated cholesterol. His history of recurrent kidney stones necessitates periodic follow-up and monitoring.\\n\\nSOCIAL HISTORY\\nAs an avid smoker for nearly four decades and an active coffee drinker, there was concern about potential effects of caffeine and nicotine. The patient lives alone in his house but relies heavily on his family for support. Following discussions about his condition and treatment plan, modifications to his lifestyle were agreed upon to prevent future episodes.\\n\\nPHYSICAL EXAMINATION\\nClinical findings revealed left costovertebral angle tenderness, indicative of the obstructive process, and significant weight loss was noticed in recent times due to the poor oral intake in response to discomfort. Examination otherwise did not detect abnormal physical findings aside from those that pointed towards severe dehydration status on clinical exam.\\n\\nLABORATORY DATA \\nBlood samples at hospitalization demonstrated elevations of creatinine at 2.5 mg/dl, a reflection of renal function impairment. Urinalysis showed the findings of significant bacteriuria. Serum calcium and phosphorus levels fell within normal limits with an unRemarkable liver panel.\\n\\nHOSPITAL COURSE\\nThe clinical approach entailed aggressive fluid management including normal saline solution alongside analgesic support as acetaminophen to mitigate discomfort from ureteral colic pain episodes until stone fragments had passed through and pain dissipated with successful treatment of acute condition during his hospital stay. Intravenous antibiotic to cover gram-negative bacilli infections causing pyelonephritis were administered after identifying and interpreting lab tests from urinalysis indicating a urinary-tract-infection requiring hospital care. Monitoring showed recovery towards the normal limits of kidney function parameters as hydration replenished volume status over several hospital days resulting in discharge with oral medications that manage his symptoms posthospital care.', 'match': False}\n"
     ]
    }
   ],
   "source": [
    "print(dataset[15])"
   ]
  }
 ],
 "metadata": {
  "kernelspec": {
   "display_name": "base",
   "language": "python",
   "name": "python3"
  },
  "language_info": {
   "codemirror_mode": {
    "name": "ipython",
    "version": 3
   },
   "file_extension": ".py",
   "mimetype": "text/x-python",
   "name": "python",
   "nbconvert_exporter": "python",
   "pygments_lexer": "ipython3",
   "version": "3.9.12"
  }
 },
 "nbformat": 4,
 "nbformat_minor": 2
}
