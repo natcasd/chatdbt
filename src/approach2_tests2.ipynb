{
 "cells": [
  {
   "cell_type": "code",
   "execution_count": 9,
   "metadata": {},
   "outputs": [],
   "source": [
    "import json\n",
    "\n",
    "def get_dataset(dataset_string):\n",
    "  with open(dataset_string, 'r') as file:\n",
    "      data = json.load(file)\n",
    "  return data"
   ]
  },
  {
   "cell_type": "code",
   "execution_count": 15,
   "metadata": {},
   "outputs": [
    {
     "name": "stdout",
     "output_type": "stream",
     "text": [
      "Groq client initialized with model: llama-3.3-70b-versatile\n"
     ]
    }
   ],
   "source": [
    "from llms.llm_interaction import GroqClient, GeminiClient\n",
    "\n",
    "patient_records2 = get_dataset('datasets/patient_records2.json')\n",
    "llm_client = GroqClient(model=\"llama-3.3-70b-versatile\")\n"
   ]
  },
  {
   "cell_type": "code",
   "execution_count": 17,
   "metadata": {},
   "outputs": [
    {
     "name": "stdout",
     "output_type": "stream",
     "text": [
      "Processing 1 records...\n",
      "\n",
      "================================================================================\n",
      "Patient Record:\n",
      "A 32-year-old male landscape worker was admitted with concerns for complications related to an opioid withdrawal syndrome as the admissions diagnosis, due to presenting severe diarrhea, muscle spasms, and cravings after cessation of prescribed Percocet following multiple surgeries for traumatic injuries sustained in a construction accident several years ago when working at heights, falling off a ladder.\n",
      "\n",
      "During detailed history-taking for history of present illness, the patient elaborated about the surgeries on both legs which eventually required prolonged bed rest and significant periods of time spent in physical therapy. He had initially become accustomed to his prescribed opioids to manage surgical site pain, and following the completion of a rigorous course of rehabilitation which involved physical therapy multiple times a week and occupational therapy for better adaptation, discovered that an increased dosage and more constant use helped alleviate underlying generalized pains he thought stemmed from muscle spasms developed during recovery and physical conditioning programs aimed at maximizing return of functions in order that job site duties be easily resumed despite some degree physical impairment still existing post surgery that he found increasingly harder to function under at previous prescribed dose limits of opiate and was now experiencing pronounced withdrawal symptoms such opioid-related physical discomfort.\n",
      "\n",
      "This patient's substantial and long-standing struggles are complicated past medical issues involving significant history related to major depressive syndrome requiring SSRI treatment at the discretion of a psychiatrist in his area following his recovery from those extensive periods hospitalized after the fall accident requiring him to undergo intensive therapy for his leg wounds coupled along his psychological counseling also required post event in which many underlying anxiety fears began showing signs manifest during rehabilitation sessions on top social lifestyle stressors involving marital conflicts stemming his inability provide economically post the fall.  Despite reported alcohol intake as occasional, it also has relevance as this factor was considered in view to assess impact of alcohol and potential interaction that alcohol presented given patient medication usage.\n",
      "\n",
      "Detailed and exhaustive social information obtained during evaluation reveal his current social lifestyle factors which show patient currently in process marital separation living situation due ongoing recovery issues affecting relationships, smoking pack-and-half-day, while maintaining employment with the landscaping business albeit now working lighter duty given persistent physical limitations from multiple site injuries requiring the need use heavy machinery at height for extended work periods as the business and job role demands but also is cognizant about risks that would pose given present recovery concerns and residual impairment stemming original accidents resulting injury. Physical examination findings indicate a mildly restless patient showing anxiety with labored deep inspiration due underlying respiratory function being possibly hinder.\n",
      "\n",
      "Initial Lab studies reveal hyponatremia, normal complete blood count, and liver enzyme panel and renal panel showing hyperphosphatemia, and hypernatremia noted to be elevated from the baseline studies taken during physical conditioning for a comparison showing changes over a set extended timeline for his ongoing health management, though such electrolyte and hydration related abnormalities require urgent hydration management that would have an electrolyte correcting component in order to restore a good state of physical readiness before discharge.\n",
      "\n",
      "As hospitalization continues, management for detox and withdrawal was promptly started including methadone titration regimen and close supervision to prevent worsening symptoms of the condition with clonidine also incorporated. This treatment course involved ongoing reassessment multiple times daily coupled with input by the psychiatric liaison team concerning possible further evaluation for mental health given current state concerning anxiety that has significantly worsened coupled his ongoing current state requiring a higher, closer degree observation as his situation evolved and required management with medication dosage adjustments also necessary due concerns related risk potential patient leaving hospital given situation and history which needed a carefully constructed safety exit plan also requiring further collaboration for ongoing recovery once discharge\n",
      "\n",
      "Semantic Regex: <patient><opioid><withdrawal_symptoms>\n",
      "\n",
      "Extracted Symbols List:\n",
      "  - patient: A 32-year-old male landscape worker was admitted as the patient\n",
      "  - opioid: complications related to an opioid withdrawal syndrome\n",
      "  - withdrawal_symptoms: experiencing pronounced withdrawal symptoms\n",
      "  - opioid: opioid-related physical discomfort\n",
      "  - patient: This patient's substantial and long-standing struggles\n",
      "  - opioid: given patient medication usage\n",
      "  - patient: patient currently in process marital separation living situation\n",
      "  - opioid: management for detox and withdrawal was promptly started including methadone titration regimen\n",
      "  - withdrawal_symptoms: prevent worsening symptoms of the condition\n",
      "FSM Result: All required symbols found. Incorrect order.\n",
      "Model prediction: False, Actual: True\n",
      "================================================================================\n",
      "accuracy of model over 1 generated records: 0.0\n",
      "precision of model over 1 generated records: 0.0\n",
      "recall of model over 1 generated records: 0.0\n",
      "f1 of model over 1 generated records: 0.0\n"
     ]
    }
   ],
   "source": [
    "from approaches.approach2 import approach2_base, approach2_annotate\n",
    "\n",
    "dataset = patient_records2[10:11]\n",
    "\n",
    "res_base = approach2_base(dataset, llm_client, order_sensitive=True, verbose=True)\n",
    "# res_annotate_manual = approach2_annotate(dataset, llm_client, order_sensitive=False, verbose=True, manual_extraction=True)\n",
    "# res_annotate_auto = approach2_annotate(dataset, llm_client, order_sensitive=False, verbose=True, manual_extraction=False)"
   ]
  },
  {
   "cell_type": "code",
   "execution_count": 23,
   "metadata": {},
   "outputs": [
    {
     "name": "stdout",
     "output_type": "stream",
     "text": [
      "Indexes where predictions failed: [7, 9, 13, 15, 17, 18, 19]\n"
     ]
    }
   ],
   "source": [
    "failed_indexes = [i for i, (pred, true) in enumerate(zip(res_annotate_auto['pred'], res_annotate_auto['true'])) if pred != true]\n",
    "print(f\"Indexes where predictions failed: {failed_indexes}\")\n"
   ]
  },
  {
   "cell_type": "code",
   "execution_count": 21,
   "metadata": {},
   "outputs": [
    {
     "name": "stdout",
     "output_type": "stream",
     "text": [
      "{'s_regex': '<drug><patient><organ_damage>', 'record': 'ADMISSION DIAGNOSIS \\nThe patient is a sixty-year-old retired mechanic who presented to the emergency department with symptoms of acute kidney impairment secondary to obstructive nephropathy due to kidney stones. \\n\\nHISTORY OF PRESENT ILLNESS\\nThe patient reported experiencing severe abdominal pain radiating to his back accompanied by nausea and vomiting for approximately two days. He admitted to taking over-the-counter anti-inflammatory medications, including acetaminophen to help manage symptoms but with little relief.\\n\\nPAST MEDICAL HISTORY\\nHe has hypertension for which he is treated with losartan and atorvastatin for elevated cholesterol. His history of recurrent kidney stones necessitates periodic follow-up and monitoring.\\n\\nSOCIAL HISTORY\\nAs an avid smoker for nearly four decades and an active coffee drinker, there was concern about potential effects of caffeine and nicotine. The patient lives alone in his house but relies heavily on his family for support. Following discussions about his condition and treatment plan, modifications to his lifestyle were agreed upon to prevent future episodes.\\n\\nPHYSICAL EXAMINATION\\nClinical findings revealed left costovertebral angle tenderness, indicative of the obstructive process, and significant weight loss was noticed in recent times due to the poor oral intake in response to discomfort. Examination otherwise did not detect abnormal physical findings aside from those that pointed towards severe dehydration status on clinical exam.\\n\\nLABORATORY DATA \\nBlood samples at hospitalization demonstrated elevations of creatinine at 2.5 mg/dl, a reflection of renal function impairment. Urinalysis showed the findings of significant bacteriuria. Serum calcium and phosphorus levels fell within normal limits with an unRemarkable liver panel.\\n\\nHOSPITAL COURSE\\nThe clinical approach entailed aggressive fluid management including normal saline solution alongside analgesic support as acetaminophen to mitigate discomfort from ureteral colic pain episodes until stone fragments had passed through and pain dissipated with successful treatment of acute condition during his hospital stay. Intravenous antibiotic to cover gram-negative bacilli infections causing pyelonephritis were administered after identifying and interpreting lab tests from urinalysis indicating a urinary-tract-infection requiring hospital care. Monitoring showed recovery towards the normal limits of kidney function parameters as hydration replenished volume status over several hospital days resulting in discharge with oral medications that manage his symptoms posthospital care.', 'match': False}\n"
     ]
    }
   ],
   "source": [
    "print(dataset[15])"
   ]
  }
 ],
 "metadata": {
  "kernelspec": {
   "display_name": "base",
   "language": "python",
   "name": "python3"
  },
  "language_info": {
   "codemirror_mode": {
    "name": "ipython",
    "version": 3
   },
   "file_extension": ".py",
   "mimetype": "text/x-python",
   "name": "python",
   "nbconvert_exporter": "python",
   "pygments_lexer": "ipython3",
   "version": "3.9.12"
  }
 },
 "nbformat": 4,
 "nbformat_minor": 2
}
