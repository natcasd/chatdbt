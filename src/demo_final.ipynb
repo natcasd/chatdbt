{
 "cells": [
  {
   "cell_type": "code",
   "execution_count": null,
   "metadata": {},
   "outputs": [],
   "source": [
    "import json\n",
    "\n",
    "def get_dataset(dataset_string):\n",
    "  with open(dataset_string, 'r') as file:\n",
    "      data = json.load(file)\n",
    "  return data"
   ]
  },
  {
   "cell_type": "code",
   "execution_count": null,
   "metadata": {},
   "outputs": [],
   "source": [
    "dataset = get_dataset(\"datasets/patient_records4_nl_query.json\")"
   ]
  },
  {
   "cell_type": "code",
   "execution_count": null,
   "metadata": {},
   "outputs": [],
   "source": [
    "from llms.llm_interaction import OpenAIClient\n",
    "\n",
    "openai_client = OpenAIClient(model=\"gpt-4o\")"
   ]
  },
  {
   "cell_type": "code",
   "execution_count": null,
   "metadata": {},
   "outputs": [],
   "source": [
    "prompt_template5 = \"\"\"\n",
    "Analyze the following patient record and highlight any part that matches the given query.\n",
    "\n",
    "Query:\n",
    "{nl_query}\n",
    "\n",
    "Patient Record:\n",
    "{record_text}\n",
    "\n",
    "If any such span exists, return True. Otherwise, return False. Only respond with one word: True or False.\n",
    "\"\"\"\n",
    "\n",
    "import random\n",
    "\n",
    "idx = random.randint(0, 239)\n",
    "\n",
    "print(idx)\n",
    "\n",
    "record = dataset[idx:idx+1]"
   ]
  },
  {
   "cell_type": "code",
   "execution_count": null,
   "metadata": {},
   "outputs": [],
   "source": [
    "from approaches.approach1 import approach1_naive\n",
    "\n",
    "res = approach1_naive(record, openai_client, prompt_template=prompt_template5, verbose=True)"
   ]
  }
 ],
 "metadata": {
  "kernelspec": {
   "display_name": "base",
   "language": "python",
   "name": "python3"
  },
  "language_info": {
   "codemirror_mode": {
    "name": "ipython",
    "version": 3
   },
   "file_extension": ".py",
   "mimetype": "text/x-python",
   "name": "python",
   "nbconvert_exporter": "python",
   "pygments_lexer": "ipython3",
   "version": "3.9.12"
  }
 },
 "nbformat": 4,
 "nbformat_minor": 2
}
