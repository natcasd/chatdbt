{
 "cells": [
  {
   "cell_type": "code",
   "execution_count": 1,
   "metadata": {},
   "outputs": [],
   "source": [
    "import json\n",
    "\n",
    "def get_dataset(dataset_string):\n",
    "  with open(dataset_string, 'r') as file:\n",
    "      data = json.load(file)\n",
    "  return data"
   ]
  },
  {
   "cell_type": "code",
   "execution_count": 14,
   "metadata": {},
   "outputs": [
    {
     "name": "stdout",
     "output_type": "stream",
     "text": [
      "Groq client initialized with model: llama-3.3-70b-versatile\n"
     ]
    }
   ],
   "source": [
    "from approaches.approach2 import approach2\n",
    "from llms.llm_interaction import GroqClient\n",
    "\n",
    "patient_records2 = get_dataset('datasets/patient_records2.json')\n",
    "llm_client = GroqClient(model=\"llama-3.3-70b-versatile\")"
   ]
  },
  {
   "cell_type": "code",
   "execution_count": 3,
   "metadata": {},
   "outputs": [
    {
     "name": "stdout",
     "output_type": "stream",
     "text": [
      "Processing 1 records...\n",
      "\n",
      "================================================================================\n",
      "Patient Record:\n",
      "ADMISSION DIAGNOSIS\n",
      "Pancytosis with concerns for chronic myeloproliferative disorder versus myeloproliferative neoplasm was diagnosed in an eighty-year-old female retired school teacher, presenting to the emergency department upon advice of primary care for abnormal laboratory findings discovered during evaluation of fatigue.\n",
      "\n",
      "HISTORY OF PRESENT ILLNESS\n",
      "The patient reports several weeks of progressive and severe fatigue and weight loss that made daily tasks difficult, necessitating help with managing the household from family members. The primary care provider initially attributed these findings to aging, poor diet, and deconditioning but pursued laboratory evaluations when symptom severity necessitated an ER evaluation. This led to the discovery of abnormal blood work.\n",
      "\n",
      "PAST MEDICAL HISTORY\n",
      "Relevant medical conditions include coronary artery disease managed by medications including carvedilol, a prior appendicitis treated surgically at a young age, and diet-controlled type 2 diabetes.\n",
      "\n",
      "SOCIAL HISTORY\n",
      "The patient had smoked a pack and a half per week when her husband developed chronic lung disease but reduced smoking by two-thirds since then and continues with decreased frequency, citing this change as due in part to her husband needing a clean living environment for health improvement purposes.\n",
      "\n",
      "PHYSICAL EXAMINATION\n",
      "The initial evaluation at admission revealed a thin female appearing frail, slightly anxious but oriented times four. Vital signs are stable though there does exist pronounced lymphadenopathy and notable hepatosplenomegaly which were further studied in subsequent workup for etiology assessment.\n",
      "\n",
      "LABORATORY DATA\n",
      "A CBC with differential showed pancytosis concerning possible myeloproliferative neoplasm but initial peripheral blood film was felt suggestive of leukoerythroblastosis in bone marrow examination misleads to possible interpretation for chronic disease states including possible secondary causes in absence confirmatory studies, in an eighty-year-old female retired teaching staff. The patient had thrombophilic mutations that were noted during workup including Factor V that can increase the clotting tendency as noted through Factor V assay test in her labs which initially may appear not significantly impactful by a physician but when viewed with all patient information provided an interesting insight.\n",
      "\n",
      "HOSPITAL COURSE\n",
      "Patient underwent further testing, notably a flow cytometric evaluation alongside the initial findings that provided valuable evidence guiding treatment that may help address her disease state while a review and assessment through imaging were pursued, a notable CT scan showing diffuse lymph node involvement in the context of the previously discovered abnormal lab finding led a radiologist on a misinterpretation by patient regarding diffuse adenopathy, where patient inappropriately interpreted her PET result without considering her diffuse adenitis diagnosis previously and her physician felt patient understanding needed careful clarification with her bone findings being critical information. This necessitated a team of specialist, led by a primary medical care attending working closely, ensuring that her clinical care needs including addressing and alleviating the root concerns and her symptom improvement goals, alongside management by hematologists were fully achieved during this inpatient hospital stay with a view toward optimizing symptom relief measures post-discharge.\n",
      "\n",
      "Semantic Regex: <diagnostic_test><patient><misinterpretation>\n",
      "response: [('<diagnostic_test>', 'abnormal laboratory findings discovered during evaluation of fatigue'), ('<diagnostic_test>', 'laboratory evaluations'), ('<diagnostic_test>', 'abnormal blood work'), ('<diagnostic_test>', 'CBC with differential'), ('<diagnostic_test>', 'peripheral blood film'), ('<diagnostic_test>', 'bone marrow examination'), ('<diagnostic_test>', 'Factor V assay test'), ('<diagnostic_test>', 'flow cytometric evaluation'), ('<diagnostic_test>', 'CT scan'), ('<diagnostic_test>', 'PET result'), ('<patient>', 'an eighty-year-old female retired school teacher'), ('<patient>', 'the patient reports'), ('<patient>', 'the patient had smoked'), ('<patient>', 'an eighty-year-old female retired teaching staff'), ('<patient>', 'her bone findings'), ('<misinterpretation>', 'misleads to possible interpretation for chronic disease states'), ('<misinterpretation>', 'a radiologist on a misinterpretation by patient regarding diffuse adenopathy'), ('<misinterpretation>', 'patient inappropriately interpreted her PET result')]\n",
      "\n",
      "Extracted Symbols List:\n",
      "  - <diagnostic_test>: abnormal laboratory findings discovered during evaluation of fatigue\n",
      "  - <diagnostic_test>: laboratory evaluations\n",
      "  - <diagnostic_test>: abnormal blood work\n",
      "  - <diagnostic_test>: CBC with differential\n",
      "  - <diagnostic_test>: peripheral blood film\n",
      "  - <diagnostic_test>: bone marrow examination\n",
      "  - <diagnostic_test>: Factor V assay test\n",
      "  - <diagnostic_test>: flow cytometric evaluation\n",
      "  - <diagnostic_test>: CT scan\n",
      "  - <diagnostic_test>: PET result\n",
      "  - <patient>: an eighty-year-old female retired school teacher\n",
      "  - <patient>: the patient reports\n",
      "  - <patient>: the patient had smoked\n",
      "  - <patient>: an eighty-year-old female retired teaching staff\n",
      "  - <patient>: her bone findings\n",
      "  - <misinterpretation>: misleads to possible interpretation for chronic disease states\n",
      "  - <misinterpretation>: a radiologist on a misinterpretation by patient regarding diffuse adenopathy\n",
      "  - <misinterpretation>: patient inappropriately interpreted her PET result\n",
      "FSM Result: All required symbols found. Incorrect order.\n",
      "Model prediction: False, Actual: True\n",
      "================================================================================\n",
      "accuracy of model over 1 generated records: 0.0\n",
      "precision of model over 1 generated records: 0.0\n",
      "recall of model over 1 generated records: 0.0\n",
      "f1 of model over 1 generated records: 0.0\n"
     ]
    }
   ],
   "source": [
    "system_prompt = \"\"\"\n",
    "        You are a helpful AI assistant that strictly outputs a python list of tuples, where each tuple is (<semantic_symbol>, explanation) in the order they appear in the patient record.\n",
    "        The output should be parseable with ast.literal_eval().\n",
    "        \"\"\"\n",
    "prompt = \"\"\"\n",
    "            Given the following patient record, extract the following semantic symbols if they exist: {regex}. \n",
    "            Return a machine parseable python list of tuples, where each tuple is (<semantic_symbol>, explanation) in the order they appear in the patient record. Only include semantic symbols that are explicitly represented in the patient record, i.e. their explanation should be the actual text in which they appear. \n",
    "            IMPORTANT: Only return the list, nothing else.\n",
    "            Make sure the order of the list reflects the order in which the semantic symbols appear in the patient record, not the order in which they are listed in the regex.\n",
    "            The explanation should be a brief description of where/how the symbol appears in the text.\n",
    "            \\n\\nPatient Record: {record_text}\n",
    "            \"\"\"\n",
    "results = approach2(patient_records2[0:1], llm_client, verbose=True, order_sensitive=True, system_prompt=system_prompt, extraction_prompt_template=prompt)"
   ]
  },
  {
   "cell_type": "markdown",
   "metadata": {},
   "source": [
    "## annotation approach"
   ]
  },
  {
   "cell_type": "code",
   "execution_count": 13,
   "metadata": {},
   "outputs": [
    {
     "name": "stdout",
     "output_type": "stream",
     "text": [
      "regular patient record: ADMISSION DIAGNOSIS \n",
      "The patient, a 72-year-old retired machinist, was admitted with a diagnosis of community-acquired pneumonia and associated hypoxemia requiring supplemental oxygen therapy. \n",
      "\n",
      "HISTORY OF PRESENT ILLNESS \n",
      "The patient had become symptomatic over the preceding week with gradually increasing cough, mild fatigue, and difficulty breathing, exacerbated by exertion. Initial management by the primary care physician included oral antibiotics and supportive care, which unfortunately did not yield the expected improvement. Consequently, upon clinical deterioration and given concerns for respiratory compromise, the patient presented to the emergency department for further evaluation and management.\n",
      "\n",
      "PAST MEDICAL HISTORY \n",
      "The patient has a long-standing history of chronic obstructive pulmonary disease, complicated coronary artery disease status post bypass grafting, hypertension, and gastroesophageal reflux disease. Regular medications include aspirin, a beta-blocker, and an inhaled corticosteroid.\n",
      "\n",
      "SOCIAL HISTORY \n",
      "Notably, the patient resides in a rural area, has a remote history of exposure to potential environmental hazards including prolonged smoking that was discontinued fifteen years ago, and consumes small amounts of wine on rare occasions. Functional capacity was remarkably preserved until this recent illness, with ability to participate in gardening activities and drive himself.\n",
      "\n",
      "PHYSICAL EXAMINATION \n",
      "The admission examination showed vital signs reflecting significant hypoxemia with an initial oxygen saturation of 78 percent despite use of his home oxygen, temperature 39.1 degrees Celsius, heart rate of 110 beats per minute, and blood pressure of 155/91 mmHg. Relevant additional physical findings include the use of accessory respiratory muscles, mild jugular venous dilation, bibasilar end insulinpery rales upon chest auscultation, with preserved mental status.\n",
      "\n",
      "LABORATORY DATA \n",
      "Pertinent initial studies were notable for a PaO2 of 45 mmHg on two liters of supplemental nasal oxygen, an elevated white blood cell count at 16,000, mild acute kidney injury, electrocardiogram indicating sinus tachycardia, chest radiography showing multifocal patchy bilateral lung opacities indicative of multifocal pneumonic infiltrates, which guided initiation and tailoring of antibiotics therapy and need for critical unit admission and noninvasive respiratory support with a toxic metabolic state also identified in the initial panel work requiring attention and correction to prevent any organ compromise and further decline.\n",
      "\n",
      "HOSPITAL COURSE \n",
      "Initial intensive therapies for acute decompensation were well-tolerated by the patient after being adjusted, optimized for underlying heart disease while addressing current infection. Clinical condition improvement followed shortly including lessened symptoms of distress, reduced fever and resolution of some of the infiltrates on a chest repeat radiograph and a better preserved saturation level and also the kidney injury that had started improving gradually during treatment after close follow-up and management and after discontinuation of all possibly suspected medications that likely may cause such complications, which allowed the discontinuation of some critical care services.\n",
      "semantic regex: <patient><chemotherapy><toxicity>\n",
      "Annotated Patient Record:\n",
      "<think>\n",
      "Okay, let me tackle this. The user wants me to annotate the patient record with the semantic symbols <patient>, <chemotherapy>, and <toxicity>. First, I need to go through the entire record and find instances of those terms.\n",
      "\n",
      "Starting with <patient>. The record mentions \"the patient\" multiple times. I'll look for each occurrence. For example, the first sentence says \"The patient, a 72-year-old retired machinist...\" so \"patient\" here should be marked. I should check every paragraph to make sure I don't miss any instances.\n",
      "\n",
      "Next, <chemotherapy>. I need to see if the word \"chemotherapy\" is present anywhere. Scanning through the record, the HOSPITAL COURSE mentions \"Initial intensive therapies\" but that's \"therapies\", not chemotherapy. The LABORATORY DATA section says \"toxic metabolic state\" but that's \"toxic\" which might relate to <toxicity> instead. Wait, the user specified <toxicity> as a symbol, so \"toxic\" could be part of that. But \"chemotherapy\" isn't mentioned anywhere. I need to confirm that. The record talks about antibiotics, oxygen therapy, and supportive care but no mention of chemotherapy. So maybe there's no instance of <chemotherapy> to tag here.\n",
      "\n",
      "Now <toxicity>. The LABORATORY DATA paragraph says \"toxic metabolic state\" so \"toxic\" is part of that phrase. The symbol is <toxicity>, so the word \"toxic\" would be the trigger here. So I need to enclose \"toxic\" within <toxicity> tags. Also, check if there are other mentions. The HOSPITAL COURSE mentions \"discontinuation of all possibly suspected medications that likely may cause such complications\" which might relate to toxicity, but the exact word \"toxicity\" isn't present. The exact term here is \"toxic metabolic state\", so \"toxic\" is the keyword here, so the annotated part would be the word \"toxic\".\n",
      "\n",
      "Wait, but the semantic symbol is \"toxicity\", so if the text says \"toxic\", should that be enclosed? The instructions say to surround the text instance of the semantic symbol. Since \"toxicity\" is the symbol, but the text has \"toxic\", maybe it's a match if \"toxic\" is considered part of the toxicity context, but the exact term isn't present. Hmm, maybe the user expects \"toxic metabolic state\" to be annotated under <toxicity> because it refers to toxicity. Alternatively, perhaps only the exact word \"toxicity\" should be tagged, but in the text it's \"toxic\". The problem says \"if they exist in the record\", so maybe only when the exact term is present. Wait, the problem says \"semantic symbols: <patient><chemotherapy><toxicity>.\" The user wants to tag instances where the symbol's term appears. Since \"toxicity\" isn't written, but \"toxic\" is, perhaps it's not a match. Wait, the symbol is \"toxicity\", but the text only has \"toxic\". So maybe that's not a match. Wait the exact wording is important here. Let me check again.\n",
      "\n",
      "Looking at LABORATORY DATA: \"toxic metabolic state\" - \"toxic\" is an adjective. Since the symbol is \"toxicity\", which is a noun form. Unless the symbol is meant to capture cases where toxicity is implied, but according to the instructions, I should only tag instances where the actual term is present. If \"toxic\" is part of \"toxic metabolic state\", perhaps the user intended that to be annotated as <toxicity> because it relates to toxicity. Alternatively, maybe not. The problem might expect only the exact terms. Hmm. The user's instruction says \"if they exist in the record\". Since \"toxicity\" isn't in the text, but \"toxic\" is, maybe it's a stretch. Wait, the problem might have a typo, but perhaps the user intended that \"toxic\" should be considered under toxicity. Alternatively, maybe the \"toxic metabolic state\" should be tagged as toxicity. Let me think again. The semantic symbol is \"toxicity\", so if the text uses \"toxic\" but not the full term, maybe it doesn't qualify. Wait, maybe the problem expects \"toxic metabolic state\" to be tagged with <toxicity> since it refers to toxicity. I need to decide based on the exact terms given. Since the symbol is \"toxicity\", perhaps only when the exact word is present, but in the text, it's \"toxic\". Hmm, this is a bit ambiguous. Maybe I should only tag exact matches. Let me check again the\n",
      "\n"
     ]
    }
   ],
   "source": [
    "system_prompt = \"\"\"\n",
    "        You are a helpful AI assistant that annotates patient record with the provided semantic symbols if they exist in the record. \n",
    "        You surround each text instance of a semantic symbol with <semantic_symbol> text text text </semantic_symbol>.\n",
    "        You return the entire annotated record as a string.\n",
    "        \"\"\"\n",
    "prompt = \"\"\"\n",
    "            Given the following patient record, annotate it with the provided semantic symbols if they exist in the record. Annotate by surrounding each text instance of a semantic symbol with <semantic_symbol> text text text </semantic_symbol>. Semantic symbols: {regex}.\n",
    "            \\n\\nPatient Record: {record_text}\n",
    "            \"\"\"\n",
    "record = patient_records2[5]\n",
    "res = llm_client.generate(prompt.format(regex=record['s_regex'], record_text=record['record']), system_prompt=system_prompt, max_tokens=1000)\n",
    "print(f'regular patient record: {record[\"record\"]}')\n",
    "print(f'semantic regex: {record[\"s_regex\"]}')\n",
    "print(f\"Annotated Patient Record:\\n{res}\\n\")\n"
   ]
  }
 ],
 "metadata": {
  "kernelspec": {
   "display_name": "base",
   "language": "python",
   "name": "python3"
  },
  "language_info": {
   "codemirror_mode": {
    "name": "ipython",
    "version": 3
   },
   "file_extension": ".py",
   "mimetype": "text/x-python",
   "name": "python",
   "nbconvert_exporter": "python",
   "pygments_lexer": "ipython3",
   "version": "3.9.12"
  }
 },
 "nbformat": 4,
 "nbformat_minor": 2
}
