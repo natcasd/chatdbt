{
 "cells": [
  {
   "cell_type": "code",
   "execution_count": 1,
   "metadata": {},
   "outputs": [],
   "source": [
    "import json\n",
    "\n",
    "def get_dataset(dataset_string):\n",
    "  with open(dataset_string, 'r') as file:\n",
    "      data = json.load(file)\n",
    "  return data"
   ]
  },
  {
   "cell_type": "code",
   "execution_count": 2,
   "metadata": {},
   "outputs": [
    {
     "ename": "ImportError",
     "evalue": "cannot import name 'approach2' from 'approaches.approach2' (/Users/nathan/Documents/aidb/finalproject/src/approaches/approach2.py)",
     "output_type": "error",
     "traceback": [
      "\u001b[0;31m---------------------------------------------------------------------------\u001b[0m",
      "\u001b[0;31mImportError\u001b[0m                               Traceback (most recent call last)",
      "Input \u001b[0;32mIn [2]\u001b[0m, in \u001b[0;36m<cell line: 1>\u001b[0;34m()\u001b[0m\n\u001b[0;32m----> 1\u001b[0m \u001b[38;5;28;01mfrom\u001b[39;00m \u001b[38;5;21;01mapproaches\u001b[39;00m\u001b[38;5;21;01m.\u001b[39;00m\u001b[38;5;21;01mapproach2\u001b[39;00m \u001b[38;5;28;01mimport\u001b[39;00m approach2\n\u001b[1;32m      2\u001b[0m \u001b[38;5;28;01mfrom\u001b[39;00m \u001b[38;5;21;01mllms\u001b[39;00m\u001b[38;5;21;01m.\u001b[39;00m\u001b[38;5;21;01mllm_interaction\u001b[39;00m \u001b[38;5;28;01mimport\u001b[39;00m GroqClient\n\u001b[1;32m      4\u001b[0m patient_records2 \u001b[38;5;241m=\u001b[39m get_dataset(\u001b[38;5;124m'\u001b[39m\u001b[38;5;124mdatasets/patient_records2.json\u001b[39m\u001b[38;5;124m'\u001b[39m)\n",
      "\u001b[0;31mImportError\u001b[0m: cannot import name 'approach2' from 'approaches.approach2' (/Users/nathan/Documents/aidb/finalproject/src/approaches/approach2.py)"
     ]
    }
   ],
   "source": [
    "from approaches.approach2 import approach2\n",
    "from llms.llm_interaction import GroqClient\n",
    "\n",
    "patient_records2 = get_dataset('datasets/patient_records2.json')\n",
    "llm_client = GroqClient(model=\"llama-3.3-70b-versatile\")"
   ]
  },
  {
   "cell_type": "code",
   "execution_count": 8,
   "metadata": {},
   "outputs": [
    {
     "name": "stdout",
     "output_type": "stream",
     "text": [
      "Processing 1 records...\n",
      "\n",
      "================================================================================\n",
      "Patient Record:\n",
      "ADMISSION DIAGNOSIS \n",
      "The patient is a sixty-year-old retired mechanic who presented to the emergency department with symptoms of acute kidney impairment secondary to obstructive nephropathy due to kidney stones. \n",
      "\n",
      "HISTORY OF PRESENT ILLNESS\n",
      "The patient reported experiencing severe abdominal pain radiating to his back accompanied by nausea and vomiting for approximately two days. He admitted to taking over-the-counter anti-inflammatory medications, including acetaminophen to help manage symptoms but with little relief.\n",
      "\n",
      "PAST MEDICAL HISTORY\n",
      "He has hypertension for which he is treated with losartan and atorvastatin for elevated cholesterol. His history of recurrent kidney stones necessitates periodic follow-up and monitoring.\n",
      "\n",
      "SOCIAL HISTORY\n",
      "As an avid smoker for nearly four decades and an active coffee drinker, there was concern about potential effects of caffeine and nicotine. The patient lives alone in his house but relies heavily on his family for support. Following discussions about his condition and treatment plan, modifications to his lifestyle were agreed upon to prevent future episodes.\n",
      "\n",
      "PHYSICAL EXAMINATION\n",
      "Clinical findings revealed left costovertebral angle tenderness, indicative of the obstructive process, and significant weight loss was noticed in recent times due to the poor oral intake in response to discomfort. Examination otherwise did not detect abnormal physical findings aside from those that pointed towards severe dehydration status on clinical exam.\n",
      "\n",
      "LABORATORY DATA \n",
      "Blood samples at hospitalization demonstrated elevations of creatinine at 2.5 mg/dl, a reflection of renal function impairment. Urinalysis showed the findings of significant bacteriuria. Serum calcium and phosphorus levels fell within normal limits with an unRemarkable liver panel.\n",
      "\n",
      "HOSPITAL COURSE\n",
      "The clinical approach entailed aggressive fluid management including normal saline solution alongside analgesic support as acetaminophen to mitigate discomfort from ureteral colic pain episodes until stone fragments had passed through and pain dissipated with successful treatment of acute condition during his hospital stay. Intravenous antibiotic to cover gram-negative bacilli infections causing pyelonephritis were administered after identifying and interpreting lab tests from urinalysis indicating a urinary-tract-infection requiring hospital care. Monitoring showed recovery towards the normal limits of kidney function parameters as hydration replenished volume status over several hospital days resulting in discharge with oral medications that manage his symptoms posthospital care.\n",
      "\n",
      "Semantic Regex: <drug><patient><organ_damage>\n",
      "response: [('<drug>', 'acetaminophen to help manage symptoms'), ('<drug>', 'losartan'), ('<drug>', 'atorvastatin'), ('<drug>', 'acetaminophen to mitigate discomfort'), ('<organ_damage>', 'acute kidney impairment secondary to obstructive nephropathy due to kidney stones'), ('<organ_damage>', 'renal function impairment'), ('<organ_damage>', 'severe dehydration status'), ('<patient>', 'The patient is a sixty-year-old retired mechanic'), ('<drug>', 'normal saline solution'), ('<drug>', 'Intravenous antibiotic'), ('<drug>', 'oral medications')]\n",
      "\n",
      "Extracted Symbols List:\n",
      "  - <drug>: acetaminophen to help manage symptoms\n",
      "  - <drug>: losartan\n",
      "  - <drug>: atorvastatin\n",
      "  - <drug>: acetaminophen to mitigate discomfort\n",
      "  - <organ_damage>: acute kidney impairment secondary to obstructive nephropathy due to kidney stones\n",
      "  - <organ_damage>: renal function impairment\n",
      "  - <organ_damage>: severe dehydration status\n",
      "  - <patient>: The patient is a sixty-year-old retired mechanic\n",
      "  - <drug>: normal saline solution\n",
      "  - <drug>: Intravenous antibiotic\n",
      "  - <drug>: oral medications\n",
      "FSM Result: All required symbols found. Incorrect order.\n",
      "Model prediction: False, Actual: False\n",
      "================================================================================\n",
      "accuracy of model over 1 generated records: 1.0\n",
      "precision of model over 1 generated records: 0.0\n",
      "recall of model over 1 generated records: 0.0\n",
      "f1 of model over 1 generated records: 0.0\n"
     ]
    }
   ],
   "source": [
    "system_prompt = \"\"\"\n",
    "        You are a helpful AI assistant that strictly outputs a python list of tuples, where each tuple is (<semantic_symbol>, explanation) in the order they appear in the patient record.\n",
    "        The output should be parseable with ast.literal_eval().\n",
    "        \"\"\"\n",
    "prompt = \"\"\"\n",
    "            Given the following patient record, extract the following semantic symbols if they exist: {regex}. \n",
    "            Return a machine parseable python list of tuples, where each tuple is (<semantic_symbol>, explanation) in the order they appear in the patient record. Only include semantic symbols that are explicitly represented in the patient record, i.e. their explanation should be the actual text in which they appear. \n",
    "            IMPORTANT: Only return the list, nothing else.\n",
    "            Make sure the order of the list reflects the order in which the semantic symbols appear in the patient record, not the order in which they are listed in the regex.\n",
    "            The explanation should be a brief description of where/how the symbol appears in the text.\n",
    "            \\n\\nPatient Record: {record_text}\n",
    "            \"\"\"\n",
    "results = approach2(patient_records2[15:16], llm_client, verbose=True, order_sensitive=True, system_prompt=system_prompt, extraction_prompt_template=prompt)"
   ]
  },
  {
   "cell_type": "markdown",
   "metadata": {},
   "source": [
    "## annotation approach"
   ]
  },
  {
   "cell_type": "code",
   "execution_count": 4,
   "metadata": {},
   "outputs": [],
   "source": [
    "annotation_extraction_prompt = \"\"\"\n",
    "Extract all text enclosed in semantic tags from the annotated medical record below. \n",
    "\n",
    "Return only the extracted content as a valid Python list of tuples in the format: [(\"tag\", \"text\"), ...].\n",
    "\n",
    "Tags may be nested. In such cases, include all relevant entries separately, even if they overlap.\n",
    "\n",
    "Example:\n",
    "Input: <patient>The <vaccine>flu vaccine</vaccine> was given.</patient>\n",
    "Output: [(\"vaccine\", \"flu vaccine\"), (\"patient\", \"The flu vaccine was given.\")]\n",
    "\n",
    "Annotated Medical Record:\n",
    "{annotated_record}\n",
    "\"\"\"\n",
    "\n"
   ]
  },
  {
   "cell_type": "code",
   "execution_count": 7,
   "metadata": {},
   "outputs": [
    {
     "name": "stdout",
     "output_type": "stream",
     "text": [
      "regular patient record: ADMISSION DIAGNOSIS \n",
      "The patient is a sixty-year-old retired mechanic who presented to the emergency department with symptoms of acute kidney impairment secondary to obstructive nephropathy due to kidney stones. \n",
      "\n",
      "HISTORY OF PRESENT ILLNESS\n",
      "The patient reported experiencing severe abdominal pain radiating to his back accompanied by nausea and vomiting for approximately two days. He admitted to taking over-the-counter anti-inflammatory medications, including acetaminophen to help manage symptoms but with little relief.\n",
      "\n",
      "PAST MEDICAL HISTORY\n",
      "He has hypertension for which he is treated with losartan and atorvastatin for elevated cholesterol. His history of recurrent kidney stones necessitates periodic follow-up and monitoring.\n",
      "\n",
      "SOCIAL HISTORY\n",
      "As an avid smoker for nearly four decades and an active coffee drinker, there was concern about potential effects of caffeine and nicotine. The patient lives alone in his house but relies heavily on his family for support. Following discussions about his condition and treatment plan, modifications to his lifestyle were agreed upon to prevent future episodes.\n",
      "\n",
      "PHYSICAL EXAMINATION\n",
      "Clinical findings revealed left costovertebral angle tenderness, indicative of the obstructive process, and significant weight loss was noticed in recent times due to the poor oral intake in response to discomfort. Examination otherwise did not detect abnormal physical findings aside from those that pointed towards severe dehydration status on clinical exam.\n",
      "\n",
      "LABORATORY DATA \n",
      "Blood samples at hospitalization demonstrated elevations of creatinine at 2.5 mg/dl, a reflection of renal function impairment. Urinalysis showed the findings of significant bacteriuria. Serum calcium and phosphorus levels fell within normal limits with an unRemarkable liver panel.\n",
      "\n",
      "HOSPITAL COURSE\n",
      "The clinical approach entailed aggressive fluid management including normal saline solution alongside analgesic support as acetaminophen to mitigate discomfort from ureteral colic pain episodes until stone fragments had passed through and pain dissipated with successful treatment of acute condition during his hospital stay. Intravenous antibiotic to cover gram-negative bacilli infections causing pyelonephritis were administered after identifying and interpreting lab tests from urinalysis indicating a urinary-tract-infection requiring hospital care. Monitoring showed recovery towards the normal limits of kidney function parameters as hydration replenished volume status over several hospital days resulting in discharge with oral medications that manage his symptoms posthospital care.\n",
      "semantic regex: <drug><patient><organ_damage>\n",
      "match? False\n",
      "Annotated Patient Record:\n",
      "ADMISSION DIAGNOSIS \n",
      "The <patient>patient is a sixty-year-old retired mechanic who presented to the emergency department with symptoms of acute kidney impairment secondary to obstructive nephropathy due to kidney stones</patient>. \n",
      "\n",
      "HISTORY OF PRESENT ILLNESS\n",
      "The <patient>patient reported experiencing severe abdominal pain radiating to his back accompanied by nausea and vomiting for approximately two days</patient>. He admitted to taking over-the-counter anti-inflammatory medications, including <drug>acetaminophen</drug> to help manage symptoms but with little relief.\n",
      "\n",
      "PAST MEDICAL HISTORY\n",
      "He has hypertension for which he is treated with <drug>losartan</drug> and <drug>atorvastatin</drug> for elevated cholesterol. His history of recurrent <organ_damage>kidney stones</organ_damage> necessitates periodic follow-up and monitoring.\n",
      "\n",
      "SOCIAL HISTORY\n",
      "As an avid smoker for nearly four decades and an active coffee drinker, there was concern about potential effects of caffeine and nicotine. The <patient>patient lives alone in his house but relies heavily on his family for support</patient>. Following discussions about his condition and treatment plan, modifications to his lifestyle were agreed upon to prevent future episodes.\n",
      "\n",
      "PHYSICAL EXAMINATION\n",
      "Clinical findings revealed left costovertebral angle tenderness, indicative of the obstructive process, and significant weight loss was noticed in recent times due to the poor oral intake in response to discomfort. Examination otherwise did not detect abnormal physical findings aside from those that pointed towards severe dehydration status on clinical exam.\n",
      "\n",
      "LABORATORY DATA \n",
      "Blood samples at hospitalization demonstrated elevations of creatinine at 2.5 mg/dl, a reflection of <organ_damage>renal function impairment</organ_damage>. Urinalysis showed the findings of significant bacteriuria. Serum calcium and phosphorus levels fell within normal limits with an unRemarkable liver panel.\n",
      "\n",
      "HOSPITAL COURSE\n",
      "The clinical approach entailed aggressive fluid management including normal saline solution alongside analgesic support as <drug>acetaminophen</drug> to mitigate discomfort from ureteral colic pain episodes until stone fragments had passed through and pain dissipated with successful treatment of acute condition during his hospital stay. Intravenous <drug>antibiotic</drug> to cover gram-negative bacilli infections causing <organ_damage>pyelonephritis</organ_damage> were administered after identifying and interpreting lab tests from urinalysis indicating a urinary-tract-infection requiring hospital care. Monitoring showed recovery towards the normal limits of <organ_damage>kidney function parameters</organ_damage> as hydration replenished volume status over several hospital days resulting in discharge with oral <drug>medications</drug> that manage his symptoms posthospital care.\n",
      "\n",
      "extracted_symbols: [('patient', 'patient is a sixty-year-old retired mechanic who presented to the emergency department with symptoms of acute kidney impairment secondary to obstructive nephropathy due to kidney stones'), ('patient', 'patient reported experiencing severe abdominal pain radiating to his back accompanied by nausea and vomiting for approximately two days'), ('drug', 'acetaminophen'), ('drug', 'losartan'), ('drug', 'atorvastatin'), ('organ_damage', 'kidney stones'), ('patient', 'patient lives alone in his house but relies heavily on his family for support'), ('organ_damage', 'renal function impairment'), ('drug', 'acetaminophen'), ('drug', 'antibiotic'), ('organ_damage', 'pyelonephritis'), ('organ_damage', 'kidney function parameters'), ('drug', 'medications')]\n",
      "extracted_symbols: ['patient', 'patient', 'drug', 'drug', 'drug', 'organ_damage', 'patient', 'organ_damage', 'drug', 'drug', 'organ_damage', 'organ_damage', 'drug']\n",
      "extracted_symbols: [('patient', 'patient is a sixty-year-old retired mechanic who presented to the emergency department with symptoms of acute kidney impairment secondary to obstructive nephropathy due to kidney stones'), ('patient', 'patient reported experiencing severe abdominal pain radiating to his back accompanied by nausea and vomiting for approximately two days'), ('drug', 'acetaminophen'), ('drug', 'losartan'), ('drug', 'atorvastatin'), ('organ_damage', 'kidney stones'), ('patient', 'patient lives alone in his house but relies heavily on his family for support'), ('organ_damage', 'renal function impairment'), ('drug', 'acetaminophen'), ('drug', 'antibiotic'), ('organ_damage', 'pyelonephritis'), ('organ_damage', 'kidney function parameters'), ('drug', 'medications')]\n",
      "extracted_symbols: ['patient', 'patient', 'drug', 'drug', 'drug', 'organ_damage', 'patient', 'organ_damage', 'drug', 'drug', 'organ_damage', 'organ_damage', 'drug']\n"
     ]
    }
   ],
   "source": [
    "from approaches.helper_methods import extract_symbols_from_annotated_record, extract_list_from_model_output\n",
    "\n",
    "system_prompt = \"\"\"\n",
    "You are an expert medical annotation assistant. Given a patient record, you identify and annotate full contextual text spans corresponding exactly to provided semantic symbols.\n",
    "\n",
    "Annotate by surrounding each identified context with tags as:\n",
    "<semantic_symbol> identified context text </semantic_symbol>\n",
    "\n",
    "Only annotate contexts representing the listed semantic symbols. Return the entire annotated patient record unaltered, preserving all original formatting and punctuation.\n",
    "\"\"\"\n",
    "\n",
    "prompt = \"\"\"\n",
    "Task:\n",
    "Annotate the patient record by identifying entire contextual spans that correspond to the provided semantic symbols. Each semantic symbol should encompass the full relevant phrase or sentence, not just an isolated word.\n",
    "\n",
    "Guidelines:\n",
    "- Each semantic symbol must be annotated using tags in this format:\n",
    "  <semantic_symbol>full contextual text span</semantic_symbol>\n",
    "- Annotate only if the patient record explicitly contains contexts that match the provided semantic symbols.\n",
    "- Preserve the exact original formatting, punctuation, capitalization, and spacing.\n",
    "- Do not modify the original record's text other than inserting annotations.\n",
    "- Make sure to close a tag before starting a new one. Do not have nested/overlapping tags.\n",
    "- Do not add any additional text or tags outside of the original record.\n",
    "\n",
    "Input:\n",
    "Semantic Symbols:\n",
    "{regex}\n",
    "\n",
    "Patient Record:\n",
    "{record_text}\n",
    "\n",
    "Output:\n",
    "Return only the fully annotated patient record as a single continuous string.\n",
    "\"\"\"\n",
    "\n",
    "record = patient_records2[15]\n",
    "res = llm_client.generate(prompt.format(regex=record['s_regex'], record_text=record['record']), system_prompt=system_prompt, max_tokens=1000)\n",
    "print(f'regular patient record: {record[\"record\"]}')\n",
    "print(f'semantic regex: {record[\"s_regex\"]}')\n",
    "print(f'match? {record[\"match\"]}')\n",
    "print(f\"Annotated Patient Record:\\n{res}\\n\")\n",
    "extracted_symbols1 = extract_symbols_from_annotated_record(res)\n",
    "print(f'extracted_symbols: {extracted_symbols1}')\n",
    "print(f'extracted_symbols: {[symbol for symbol, _ in extracted_symbols1]}')\n",
    "extracted_symbols2 = llm_client.generate(annotation_extraction_prompt.format(annotated_record=res))\n",
    "extracted_symbols2 = extract_list_from_model_output(extracted_symbols2)\n",
    "print(f'extracted_symbols: {extracted_symbols2}')\n",
    "print(f'extracted_symbols: {[symbol for symbol, _ in extracted_symbols2]}')\n"
   ]
  },
  {
   "cell_type": "code",
   "execution_count": null,
   "metadata": {},
   "outputs": [],
   "source": []
  }
 ],
 "metadata": {
  "kernelspec": {
   "display_name": "base",
   "language": "python",
   "name": "python3"
  },
  "language_info": {
   "codemirror_mode": {
    "name": "ipython",
    "version": 3
   },
   "file_extension": ".py",
   "mimetype": "text/x-python",
   "name": "python",
   "nbconvert_exporter": "python",
   "pygments_lexer": "ipython3",
   "version": "3.9.12"
  }
 },
 "nbformat": 4,
 "nbformat_minor": 2
}
