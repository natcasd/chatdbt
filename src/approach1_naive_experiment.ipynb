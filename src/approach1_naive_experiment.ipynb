{
 "cells": [
  {
   "cell_type": "markdown",
   "metadata": {},
   "source": [
    "Visualizations for Analyzing Approach 1"
   ]
  },
  {
   "cell_type": "code",
   "execution_count": 1,
   "metadata": {},
   "outputs": [],
   "source": [
    "import json\n",
    "\n",
    "import pandas as pd\n",
    "import matplotlib.pyplot as plt\n",
    "import seaborn as sns\n",
    "\n",
    "from approaches.approach1 import approach1_naive\n",
    "from llms.llm_interaction import GroqClient"
   ]
  },
  {
   "cell_type": "code",
   "execution_count": 2,
   "metadata": {},
   "outputs": [],
   "source": [
    "def get_dataset(dataset_string):\n",
    "  with open(dataset_string, 'r') as file:\n",
    "      data = json.load(file)\n",
    "  return data"
   ]
  },
  {
   "cell_type": "code",
   "execution_count": 3,
   "metadata": {},
   "outputs": [],
   "source": [
    "patient_records2_nl_query = get_dataset('datasets/patient_records2_nl_query.json')"
   ]
  },
  {
   "cell_type": "markdown",
   "metadata": {},
   "source": [
    "Templates that explore different context information, specificity, and order of presenting information to the language model. Default template is the one used if no template is fed to approach1_naive()."
   ]
  },
  {
   "cell_type": "code",
   "execution_count": 4,
   "metadata": {},
   "outputs": [],
   "source": [
    "default_template = (\"\"\"\n",
    "                    Given the following patient record, answer the following natural language query: \n",
    "                    {nl_query} Return either true OR false, nothing else.\\n\\nPatient Record: {record_text}\"\"\")\n",
    "\n",
    "prompt_template0 = (\"\"\"\n",
    "Patient Data:\n",
    "{record_text}\n",
    "                    \n",
    "Task:\n",
    "Determine whether at least one match of the following query is implied or explicitly present in the patient data above.\n",
    "\n",
    "Query:\n",
    "{nl_query}\n",
    "\n",
    "Return exactly one word: \"True\" or \"False\".\n",
    "\"\"\")\n",
    "\n",
    "prompt_template1 = (\"\"\"\n",
    "Instruction: Given the following patient data, identify if it matches the following query: {nl_query}. Return either true or false, nothing else.\n",
    "                    \n",
    "Patient Data: {record_text}\n",
    "\"\"\")\n",
    "\n",
    "prompt_template2 = (\"\"\"\n",
    "You are a clinical language analysis system.\n",
    "\n",
    "Input:\n",
    "- Patient Record: {record_text}\n",
    "- Query: {nl_query}\n",
    "\n",
    "Objective:\n",
    "Assess whether the patient record includes the query.\n",
    "\n",
    "Output:\n",
    "Respond only with one word: True or False. Do not include explanations.\n",
    "\"\"\")\n",
    "\n",
    "prompt_template3 = (\"\"\"\n",
    "Question:\n",
    "Does the following patient record match the meaning of the given query?\n",
    "\n",
    "Query: {nl_query}\n",
    "\n",
    "Patient Record: {record_text}\n",
    "\n",
    "Answer with a single Boolean value: True or False.\n",
    "\"\"\")\n"
   ]
  },
  {
   "cell_type": "markdown",
   "metadata": {},
   "source": [
    "Pipeline that feeds data through all provided prompt templates and queries each model specified. We explore 25 datapoints for this miniature experiment."
   ]
  },
  {
   "cell_type": "code",
   "execution_count": 6,
   "metadata": {},
   "outputs": [
    {
     "name": "stdout",
     "output_type": "stream",
     "text": [
      "Groq client initialized with model: llama-3.3-70b-versatile\n"
     ]
    },
    {
     "name": "stderr",
     "output_type": "stream",
     "text": [
      "Processing records: 100%|██████████| 25/25 [02:40<00:00,  6.40s/record]\n"
     ]
    },
    {
     "name": "stdout",
     "output_type": "stream",
     "text": [
      "accuracy of model over 25 generated records: 0.92\n",
      "precision of model over 25 generated records: 0.8666666666666667\n",
      "recall of model over 25 generated records: 1.0\n",
      "f1 of model over 25 generated records: 0.9285714285714286\n"
     ]
    },
    {
     "name": "stderr",
     "output_type": "stream",
     "text": [
      "Processing records: 100%|██████████| 25/25 [02:54<00:00,  6.98s/record]\n"
     ]
    },
    {
     "name": "stdout",
     "output_type": "stream",
     "text": [
      "accuracy of model over 25 generated records: 0.92\n",
      "precision of model over 25 generated records: 0.8666666666666667\n",
      "recall of model over 25 generated records: 1.0\n",
      "f1 of model over 25 generated records: 0.9285714285714286\n"
     ]
    },
    {
     "name": "stderr",
     "output_type": "stream",
     "text": [
      "Processing records: 100%|██████████| 25/25 [02:10<00:00,  5.23s/record]\n"
     ]
    },
    {
     "name": "stdout",
     "output_type": "stream",
     "text": [
      "accuracy of model over 25 generated records: 0.88\n",
      "precision of model over 25 generated records: 0.8125\n",
      "recall of model over 25 generated records: 1.0\n",
      "f1 of model over 25 generated records: 0.896551724137931\n"
     ]
    },
    {
     "name": "stderr",
     "output_type": "stream",
     "text": [
      "Processing records: 100%|██████████| 25/25 [02:01<00:00,  4.85s/record]\n"
     ]
    },
    {
     "name": "stdout",
     "output_type": "stream",
     "text": [
      "accuracy of model over 25 generated records: 0.88\n",
      "precision of model over 25 generated records: 1.0\n",
      "recall of model over 25 generated records: 0.7692307692307693\n",
      "f1 of model over 25 generated records: 0.8695652173913044\n"
     ]
    },
    {
     "name": "stderr",
     "output_type": "stream",
     "text": [
      "Processing records: 100%|██████████| 25/25 [02:47<00:00,  6.70s/record]\n"
     ]
    },
    {
     "name": "stdout",
     "output_type": "stream",
     "text": [
      "accuracy of model over 25 generated records: 0.48\n",
      "precision of model over 25 generated records: 0.0\n",
      "recall of model over 25 generated records: 0.0\n",
      "f1 of model over 25 generated records: 0.0\n",
      "Groq client initialized with model: qwen-2.5-32b\n"
     ]
    },
    {
     "name": "stderr",
     "output_type": "stream",
     "text": [
      "Processing records: 100%|██████████| 25/25 [01:50<00:00,  4.41s/record]\n"
     ]
    },
    {
     "name": "stdout",
     "output_type": "stream",
     "text": [
      "accuracy of model over 25 generated records: 0.92\n",
      "precision of model over 25 generated records: 1.0\n",
      "recall of model over 25 generated records: 0.8461538461538461\n",
      "f1 of model over 25 generated records: 0.9166666666666666\n"
     ]
    },
    {
     "name": "stderr",
     "output_type": "stream",
     "text": [
      "Processing records: 100%|██████████| 25/25 [02:49<00:00,  6.79s/record]\n"
     ]
    },
    {
     "name": "stdout",
     "output_type": "stream",
     "text": [
      "accuracy of model over 25 generated records: 0.96\n",
      "precision of model over 25 generated records: 0.9285714285714286\n",
      "recall of model over 25 generated records: 1.0\n",
      "f1 of model over 25 generated records: 0.962962962962963\n"
     ]
    },
    {
     "name": "stderr",
     "output_type": "stream",
     "text": [
      "Processing records: 100%|██████████| 25/25 [02:46<00:00,  6.65s/record]\n"
     ]
    },
    {
     "name": "stdout",
     "output_type": "stream",
     "text": [
      "accuracy of model over 25 generated records: 0.92\n",
      "precision of model over 25 generated records: 1.0\n",
      "recall of model over 25 generated records: 0.8461538461538461\n",
      "f1 of model over 25 generated records: 0.9166666666666666\n"
     ]
    },
    {
     "name": "stderr",
     "output_type": "stream",
     "text": [
      "Processing records: 100%|██████████| 25/25 [02:02<00:00,  4.92s/record]\n"
     ]
    },
    {
     "name": "stdout",
     "output_type": "stream",
     "text": [
      "accuracy of model over 25 generated records: 0.92\n",
      "precision of model over 25 generated records: 0.8666666666666667\n",
      "recall of model over 25 generated records: 1.0\n",
      "f1 of model over 25 generated records: 0.9285714285714286\n"
     ]
    },
    {
     "name": "stderr",
     "output_type": "stream",
     "text": [
      "Processing records: 100%|██████████| 25/25 [02:24<00:00,  5.76s/record]\n"
     ]
    },
    {
     "name": "stdout",
     "output_type": "stream",
     "text": [
      "accuracy of model over 25 generated records: 0.96\n",
      "precision of model over 25 generated records: 1.0\n",
      "recall of model over 25 generated records: 0.9230769230769231\n",
      "f1 of model over 25 generated records: 0.9600000000000001\n",
      "Groq client initialized with model: gemma2-9b-it\n"
     ]
    },
    {
     "name": "stderr",
     "output_type": "stream",
     "text": [
      "Processing records: 100%|██████████| 25/25 [00:07<00:00,  3.53record/s]\n"
     ]
    },
    {
     "name": "stdout",
     "output_type": "stream",
     "text": [
      "accuracy of model over 25 generated records: 0.84\n",
      "precision of model over 25 generated records: 0.7647058823529411\n",
      "recall of model over 25 generated records: 1.0\n",
      "f1 of model over 25 generated records: 0.8666666666666666\n"
     ]
    },
    {
     "name": "stderr",
     "output_type": "stream",
     "text": [
      "Processing records: 100%|██████████| 25/25 [01:05<00:00,  2.62s/record]\n"
     ]
    },
    {
     "name": "stdout",
     "output_type": "stream",
     "text": [
      "accuracy of model over 25 generated records: 0.92\n",
      "precision of model over 25 generated records: 0.8666666666666667\n",
      "recall of model over 25 generated records: 1.0\n",
      "f1 of model over 25 generated records: 0.9285714285714286\n"
     ]
    },
    {
     "name": "stderr",
     "output_type": "stream",
     "text": [
      "Processing records: 100%|██████████| 25/25 [01:04<00:00,  2.58s/record]\n"
     ]
    },
    {
     "name": "stdout",
     "output_type": "stream",
     "text": [
      "accuracy of model over 25 generated records: 0.84\n",
      "precision of model over 25 generated records: 0.7647058823529411\n",
      "recall of model over 25 generated records: 1.0\n",
      "f1 of model over 25 generated records: 0.8666666666666666\n"
     ]
    },
    {
     "name": "stderr",
     "output_type": "stream",
     "text": [
      "Processing records: 100%|██████████| 25/25 [01:06<00:00,  2.66s/record]\n"
     ]
    },
    {
     "name": "stdout",
     "output_type": "stream",
     "text": [
      "accuracy of model over 25 generated records: 0.92\n",
      "precision of model over 25 generated records: 0.8666666666666667\n",
      "recall of model over 25 generated records: 1.0\n",
      "f1 of model over 25 generated records: 0.9285714285714286\n"
     ]
    },
    {
     "name": "stderr",
     "output_type": "stream",
     "text": [
      "Processing records: 100%|██████████| 25/25 [01:04<00:00,  2.57s/record]"
     ]
    },
    {
     "name": "stdout",
     "output_type": "stream",
     "text": [
      "accuracy of model over 25 generated records: 0.88\n",
      "precision of model over 25 generated records: 0.8125\n",
      "recall of model over 25 generated records: 1.0\n",
      "f1 of model over 25 generated records: 0.896551724137931\n"
     ]
    },
    {
     "name": "stderr",
     "output_type": "stream",
     "text": [
      "\n"
     ]
    }
   ],
   "source": [
    "def run_approach1_naive_on_models(patient_records, models, prompt_templates):\n",
    "    rows = []\n",
    "    for model in models:\n",
    "        llm_client = GroqClient(model=model)\n",
    "        for i, template in enumerate(prompt_templates):\n",
    "            output = approach1_naive(patient_records, llm_client, prompt_template=template)\n",
    "            row = {\n",
    "                \"model\": model,\n",
    "                \"id\": str(i),\n",
    "                \"f1\": output['f1'],\n",
    "                \"time-elapsed\": output['time_elapsed']\n",
    "                \n",
    "            }\n",
    "            rows.append(row)\n",
    "    return rows\n",
    "\n",
    "models = [\"llama-3.3-70b-versatile\", \"qwen-2.5-32b\", \"gemma2-9b-it\"]\n",
    "prompt_templates = [default_template, prompt_template0, prompt_template1, prompt_template2, prompt_template3]\n",
    "results = run_approach1_naive_on_models(patient_records2_nl_query[:25], models, prompt_templates)\n",
    "df = pd.DataFrame(results)"
   ]
  },
  {
   "cell_type": "code",
   "execution_count": 10,
   "metadata": {},
   "outputs": [
    {
     "data": {
      "text/html": [
       "<div>\n",
       "<style scoped>\n",
       "    .dataframe tbody tr th:only-of-type {\n",
       "        vertical-align: middle;\n",
       "    }\n",
       "\n",
       "    .dataframe tbody tr th {\n",
       "        vertical-align: top;\n",
       "    }\n",
       "\n",
       "    .dataframe thead th {\n",
       "        text-align: right;\n",
       "    }\n",
       "</style>\n",
       "<table border=\"1\" class=\"dataframe\">\n",
       "  <thead>\n",
       "    <tr style=\"text-align: right;\">\n",
       "      <th></th>\n",
       "      <th>model</th>\n",
       "      <th>id</th>\n",
       "      <th>f1</th>\n",
       "      <th>time-elapsed</th>\n",
       "    </tr>\n",
       "  </thead>\n",
       "  <tbody>\n",
       "    <tr>\n",
       "      <th>0</th>\n",
       "      <td>llama-3.3-70b-versatile</td>\n",
       "      <td>0</td>\n",
       "      <td>0.928571</td>\n",
       "      <td>160.100748</td>\n",
       "    </tr>\n",
       "    <tr>\n",
       "      <th>1</th>\n",
       "      <td>llama-3.3-70b-versatile</td>\n",
       "      <td>1</td>\n",
       "      <td>0.928571</td>\n",
       "      <td>174.450423</td>\n",
       "    </tr>\n",
       "    <tr>\n",
       "      <th>2</th>\n",
       "      <td>llama-3.3-70b-versatile</td>\n",
       "      <td>2</td>\n",
       "      <td>0.896552</td>\n",
       "      <td>130.773914</td>\n",
       "    </tr>\n",
       "    <tr>\n",
       "      <th>3</th>\n",
       "      <td>llama-3.3-70b-versatile</td>\n",
       "      <td>3</td>\n",
       "      <td>0.869565</td>\n",
       "      <td>121.144702</td>\n",
       "    </tr>\n",
       "    <tr>\n",
       "      <th>4</th>\n",
       "      <td>llama-3.3-70b-versatile</td>\n",
       "      <td>4</td>\n",
       "      <td>0.000000</td>\n",
       "      <td>167.518893</td>\n",
       "    </tr>\n",
       "    <tr>\n",
       "      <th>5</th>\n",
       "      <td>qwen-2.5-32b</td>\n",
       "      <td>0</td>\n",
       "      <td>0.916667</td>\n",
       "      <td>110.178407</td>\n",
       "    </tr>\n",
       "    <tr>\n",
       "      <th>6</th>\n",
       "      <td>qwen-2.5-32b</td>\n",
       "      <td>1</td>\n",
       "      <td>0.962963</td>\n",
       "      <td>169.848840</td>\n",
       "    </tr>\n",
       "    <tr>\n",
       "      <th>7</th>\n",
       "      <td>qwen-2.5-32b</td>\n",
       "      <td>2</td>\n",
       "      <td>0.916667</td>\n",
       "      <td>166.281828</td>\n",
       "    </tr>\n",
       "    <tr>\n",
       "      <th>8</th>\n",
       "      <td>qwen-2.5-32b</td>\n",
       "      <td>3</td>\n",
       "      <td>0.928571</td>\n",
       "      <td>122.936157</td>\n",
       "    </tr>\n",
       "    <tr>\n",
       "      <th>9</th>\n",
       "      <td>qwen-2.5-32b</td>\n",
       "      <td>4</td>\n",
       "      <td>0.960000</td>\n",
       "      <td>144.052535</td>\n",
       "    </tr>\n",
       "    <tr>\n",
       "      <th>10</th>\n",
       "      <td>gemma2-9b-it</td>\n",
       "      <td>0</td>\n",
       "      <td>0.866667</td>\n",
       "      <td>7.093967</td>\n",
       "    </tr>\n",
       "    <tr>\n",
       "      <th>11</th>\n",
       "      <td>gemma2-9b-it</td>\n",
       "      <td>1</td>\n",
       "      <td>0.928571</td>\n",
       "      <td>65.591913</td>\n",
       "    </tr>\n",
       "    <tr>\n",
       "      <th>12</th>\n",
       "      <td>gemma2-9b-it</td>\n",
       "      <td>2</td>\n",
       "      <td>0.866667</td>\n",
       "      <td>64.497947</td>\n",
       "    </tr>\n",
       "    <tr>\n",
       "      <th>13</th>\n",
       "      <td>gemma2-9b-it</td>\n",
       "      <td>3</td>\n",
       "      <td>0.928571</td>\n",
       "      <td>66.521939</td>\n",
       "    </tr>\n",
       "    <tr>\n",
       "      <th>14</th>\n",
       "      <td>gemma2-9b-it</td>\n",
       "      <td>4</td>\n",
       "      <td>0.896552</td>\n",
       "      <td>64.268015</td>\n",
       "    </tr>\n",
       "  </tbody>\n",
       "</table>\n",
       "</div>"
      ],
      "text/plain": [
       "                      model id        f1  time-elapsed\n",
       "0   llama-3.3-70b-versatile  0  0.928571    160.100748\n",
       "1   llama-3.3-70b-versatile  1  0.928571    174.450423\n",
       "2   llama-3.3-70b-versatile  2  0.896552    130.773914\n",
       "3   llama-3.3-70b-versatile  3  0.869565    121.144702\n",
       "4   llama-3.3-70b-versatile  4  0.000000    167.518893\n",
       "5              qwen-2.5-32b  0  0.916667    110.178407\n",
       "6              qwen-2.5-32b  1  0.962963    169.848840\n",
       "7              qwen-2.5-32b  2  0.916667    166.281828\n",
       "8              qwen-2.5-32b  3  0.928571    122.936157\n",
       "9              qwen-2.5-32b  4  0.960000    144.052535\n",
       "10             gemma2-9b-it  0  0.866667      7.093967\n",
       "11             gemma2-9b-it  1  0.928571     65.591913\n",
       "12             gemma2-9b-it  2  0.866667     64.497947\n",
       "13             gemma2-9b-it  3  0.928571     66.521939\n",
       "14             gemma2-9b-it  4  0.896552     64.268015"
      ]
     },
     "execution_count": 10,
     "metadata": {},
     "output_type": "execute_result"
    }
   ],
   "source": [
    "df"
   ]
  },
  {
   "cell_type": "markdown",
   "metadata": {},
   "source": [
    "Visualization of F1 scores of different model outputs compared to ground truth labels when the specified prompt template is used."
   ]
  },
  {
   "cell_type": "code",
   "execution_count": 11,
   "metadata": {},
   "outputs": [
    {
     "data": {
      "image/png": "[encoded data removed]",
      "text/plain": [
       "<Figure size 1000x600 with 1 Axes>"
      ]
     },
     "metadata": {},
     "output_type": "display_data"
    }
   ],
   "source": [
    "plt.figure(figsize=(10, 6))\n",
    "sns.barplot(data=df, x=\"model\", y=\"f1\", hue=\"id\")\n",
    "plt.title(\"F1 Score by Model and Prompt (Naive)\")\n",
    "plt.ylim(0, 1)\n",
    "plt.legend(title=\"Prompt Template\")\n",
    "plt.tight_layout()\n",
    "plt.show()\n"
   ]
  },
  {
   "cell_type": "markdown",
   "metadata": {},
   "source": [
    "Visualization of time taken by different models to generate the outputs using the specified prompt template."
   ]
  },
  {
   "cell_type": "code",
   "execution_count": 12,
   "metadata": {},
   "outputs": [
    {
     "data": {
      "image/png": "[encoded data removed]",
      "text/plain": [
       "<Figure size 1000x600 with 1 Axes>"
      ]
     },
     "metadata": {},
     "output_type": "display_data"
    }
   ],
   "source": [
    "plt.figure(figsize=(10, 6))\n",
    "sns.barplot(data=df, x=\"model\", y=\"time-elapsed\", hue=\"id\")\n",
    "plt.title(\"Time Elapsed by Model and Prompt (Naive)\")\n",
    "plt.ylabel(\"Time (seconds)\")\n",
    "plt.legend(title=\"Prompt Template\")\n",
    "plt.xticks(rotation=45)\n",
    "plt.tight_layout()\n",
    "plt.show()\n",
    "\n"
   ]
  }
 ],
 "metadata": {
  "kernelspec": {
   "display_name": "cs1951a_venv",
   "language": "python",
   "name": "python3"
  },
  "language_info": {
   "codemirror_mode": {
    "name": "ipython",
    "version": 3
   },
   "file_extension": ".py",
   "mimetype": "text/x-python",
   "name": "python",
   "nbconvert_exporter": "python",
   "pygments_lexer": "ipython3",
   "version": "3.11.9"
  }
 },
 "nbformat": 4,
 "nbformat_minor": 2
}
