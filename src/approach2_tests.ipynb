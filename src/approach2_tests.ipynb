{
 "cells": [
  {
   "cell_type": "code",
   "execution_count": 6,
   "metadata": {},
   "outputs": [],
   "source": [
    "import json\n",
    "\n",
    "def get_dataset(dataset_string):\n",
    "  with open(dataset_string, 'r') as file:\n",
    "      data = json.load(file)\n",
    "  return data"
   ]
  },
  {
   "cell_type": "code",
   "execution_count": 7,
   "metadata": {},
   "outputs": [],
   "source": [
    "dataset = get_dataset('datasets/patient_records2_nl_query.json')"
   ]
  },
  {
   "cell_type": "code",
   "execution_count": 8,
   "metadata": {},
   "outputs": [
    {
     "name": "stdout",
     "output_type": "stream",
     "text": [
      "Groq client initialized with model: llama-3.3-70b-versatile\n"
     ]
    }
   ],
   "source": [
    "from approaches.approach2 import approach2\n",
    "from llms.llm_interaction import OpenAIClient, GroqClient\n",
    "\n",
    "llama33 = GroqClient(model=\"llama-3.3-70b-versatile\")"
   ]
  },
  {
   "cell_type": "code",
   "execution_count": 9,
   "metadata": {},
   "outputs": [
    {
     "name": "stdout",
     "output_type": "stream",
     "text": [
      "Processing 2 records...\n",
      "\n",
      "================================================================================\n",
      "Patient Record:\n",
      "ADMISSION DIAGNOSIS\n",
      "Pancytosis with concerns for chronic myeloproliferative disorder versus myeloproliferative neoplasm was diagnosed in an eighty-year-old female retired school teacher, presenting to the emergency department upon advice of primary care for abnormal laboratory findings discovered during evaluation of fatigue.\n",
      "\n",
      "HISTORY OF PRESENT ILLNESS\n",
      "The patient reports several weeks of progressive and severe fatigue and weight loss that made daily tasks difficult, necessitating help with managing the household from family members. The primary care provider initially attributed these findings to aging, poor diet, and deconditioning but pursued laboratory evaluations when symptom severity necessitated an ER evaluation. This led to the discovery of abnormal blood work.\n",
      "\n",
      "PAST MEDICAL HISTORY\n",
      "Relevant medical conditions include coronary artery disease managed by medications including carvedilol, a prior appendicitis treated surgically at a young age, and diet-controlled type 2 diabetes.\n",
      "\n",
      "SOCIAL HISTORY\n",
      "The patient had smoked a pack and a half per week when her husband developed chronic lung disease but reduced smoking by two-thirds since then and continues with decreased frequency, citing this change as due in part to her husband needing a clean living environment for health improvement purposes.\n",
      "\n",
      "PHYSICAL EXAMINATION\n",
      "The initial evaluation at admission revealed a thin female appearing frail, slightly anxious but oriented times four. Vital signs are stable though there does exist pronounced lymphadenopathy and notable hepatosplenomegaly which were further studied in subsequent workup for etiology assessment.\n",
      "\n",
      "LABORATORY DATA\n",
      "A CBC with differential showed pancytosis concerning possible myeloproliferative neoplasm but initial peripheral blood film was felt suggestive of leukoerythroblastosis in bone marrow examination misleads to possible interpretation for chronic disease states including possible secondary causes in absence confirmatory studies, in an eighty-year-old female retired teaching staff. The patient had thrombophilic mutations that were noted during workup including Factor V that can increase the clotting tendency as noted through Factor V assay test in her labs which initially may appear not significantly impactful by a physician but when viewed with all patient information provided an interesting insight.\n",
      "\n",
      "HOSPITAL COURSE\n",
      "Patient underwent further testing, notably a flow cytometric evaluation alongside the initial findings that provided valuable evidence guiding treatment that may help address her disease state while a review and assessment through imaging were pursued, a notable CT scan showing diffuse lymph node involvement in the context of the previously discovered abnormal lab finding led a radiologist on a misinterpretation by patient regarding diffuse adenopathy, where patient inappropriately interpreted her PET result without considering her diffuse adenitis diagnosis previously and her physician felt patient understanding needed careful clarification with her bone findings being critical information. This necessitated a team of specialist, led by a primary medical care attending working closely, ensuring that her clinical care needs including addressing and alleviating the root concerns and her symptom improvement goals, alongside management by hematologists were fully achieved during this inpatient hospital stay with a view toward optimizing symptom relief measures post-discharge.\n",
      "\n",
      "Semantic Regex: <diagnostic_test><patient><misinterpretation>\n",
      "\n",
      "Extracted Symbols List:\n",
      "  - <diagnostic_test>: A CBC with differential showed pancytosis\n",
      "  - <diagnostic_test>: peripheral blood film was felt suggestive of leukoerythroblastosis\n",
      "  - <diagnostic_test>: Factor V assay test\n",
      "  - <patient>: an eighty-year-old female retired school teacher\n",
      "  - <diagnostic_test>: flow cytometric evaluation\n",
      "  - <diagnostic_test>: CT scan showing diffuse lymph node involvement\n",
      "  - <misinterpretation>: a radiologist on a misinterpretation by patient regarding diffuse adenopathy\n",
      "  - <patient>: patient inappropriately interpreted her PET result\n",
      "FSM Result: Some required symbols are missing: {'patient', 'misinterpretation', 'diagnostic_test'}\n",
      "Model prediction: False, Actual: True\n",
      "================================================================================\n",
      "\n",
      "================================================================================\n",
      "Patient Record:\n",
      "ADMISSION DIAGNOSIS \n",
      "Pneumonia in a twenty-five-year-old graduate student admitted with worsening shortness of breath and cough over two weeks.\n",
      "\n",
      "HISTORY OF PRESENT ILLNESS \n",
      "This patient's acute illness began with general fatigue and a sore throat, quickly progressing to include cough and difficulty breathing. Over the two-week period, she experienced night sweats and lost seven pounds despite having an unusually good appetite. Prior to this episode, she felt perfectly healthy and was physically very active with a part-time job as an aerobics instructor. \n",
      "\n",
      "PAST MEDICAL HISTORY \n",
      "Her chronic conditions include mild intermittent asthma controlled using occasional doses of an albuterol inhaler. She reported receiving the flu and Covid vaccines as recommended during her regular physical exams at a college clinic. In childhood, a mild penicillin allergy with rash occurred. All dental issues, she said, were handled in a college oral clinic that managed students on her dental plan, but did not detail the treatment or specific diagnoses other than some minor cavities that were corrected.\n",
      "\n",
      "SOCIAL HISTORY \n",
      "Socially, this individual reported heavy cigarette and periodic hookah usage since age nineteen alongside an increasingly sedentary lifestyle from working extended hours preparing lesson plans as a recent educator.  However, as physical education instructor, her schedule allowed a mix of physical activity during work as instructor with heavy student population of younger children. This lifestyle transition was accompanied by irregular use of alcohol on social engagements over many past social weekends while enjoying nightlife music and events on weekends but has significantly decreased such use following some recent life events in favor other pursuits outside teaching field now more frequently pursued instead in recent personal time outside that job description that now has allowed some return of physical activity outside work schedule as part of leisure or fun again without that past sedentary routine at home previously so predominant.\n",
      "\n",
      "\n",
      "PHYSICAL EXAMINATION \n",
      "Her vitals presented an oral temperature of 101.9 Fahrenheit along with pulse of 106, BP was 128/74 mm/Hg. Pulse-Ox revealed an oxygen saturation of 92% in room air upon intake at ER, later corrected using oxygen at increasing Fi0 percentages until adequate. Rales and other sounds detected at left lung on exam were indicative of left lobe consolidation. \n",
      "\n",
      "LABORATORY DATA \n",
      "Blood cell differentials did suggest mild elevated WBCs at nearly twice baseline with elevated markers and bands observed upon manual review. Radiology imaging from the portable antero-post views demonstrated increased infiltration at lung fields bilaterally and especially in a lobe, but less in right side, thus, supporting our impression in ER after thorough review of diagnostic data.\n",
      "\n",
      "HOSPITAL COURSE \n",
      "Antibacterial treatment of ampicillin and sulfactant combination given empirically on intake for coverage of likely cause pending additional lab confirmation which later became positive in the following forty-eight hours as blood results came back and confirmed a specific gram stain and final cultures, later fully identifying and isolating Pneumococcus in a respiratory lab.\n",
      "\n",
      "Semantic Regex: <diagnostic_test><patient><misinterpretation>\n",
      "\n",
      "Extracted Symbols List:\n",
      "  - <patient>: twenty-five-year-old graduate student admitted with worsening shortness of breath and cough over two weeks\n",
      "  - <diagnostic_test>: Pulse-Ox revealed an oxygen saturation of 92% in room air upon intake at ER\n",
      "  - <diagnostic_test>: Radiology imaging from the portable antero-post views demonstrated increased infiltration at lung fields bilaterally\n",
      "  - <diagnostic_test>: Blood cell differentials did suggest mild elevated WBCs at nearly twice baseline with elevated markers and bands observed upon manual review\n",
      "  - <diagnostic_test>: final cultures, later fully identifying and isolating Pneumococcus in a respiratory lab\n",
      "FSM Result: Some required symbols are missing: {'patient', 'misinterpretation', 'diagnostic_test'}\n",
      "Model prediction: False, Actual: False\n",
      "================================================================================\n",
      "accuracy of model over 2 generated records: 0.5\n",
      "precision of model over 2 generated records: 0.0\n",
      "recall of model over 2 generated records: 0.0\n",
      "f1 of model over 2 generated records: 0.0\n",
      "Run results logged to results/experiment_results.csv\n"
     ]
    }
   ],
   "source": [
    "from approaches.approach1 import approach1_naive, approach1\n",
    "\n",
    "# llama33 = GroqClient(model=\"llama-3.3-70b-versatile\")\n",
    "# pred, true = approach1_naive(dataset[0:10], llama33)\n",
    "system_prompt = \"\"\"\n",
    "        You are a helpful AI assistant that strictly outputs a python list of tuples, where each tuple is (<semantic_symbol>, explanation) in the order they appear in the patient record.\n",
    "        The output should be parseable with ast.literal_eval().\n",
    "        \"\"\"\n",
    "prompt = \"\"\"\n",
    "            Given the following patient record, extract the following semantic symbols if they exist: {regex}. \n",
    "            Return a machine parseable python list of tuples, where each tuple is (<semantic_symbol>, explanation) in the order they appear in the patient record. \n",
    "            IMPORTANT: Only return the list, nothing else. If a semantic symbol is not clearly represented in the patient record, do not include it in the list.\n",
    "            Make sure the order of the list reflects the order in which the semantic symbols appear in the patient record, not the order in which they are listed in the regex.\n",
    "            The explanation should be a brief description of where/how the symbol appears in the text.\n",
    "            \\n\\nPatient Record: {record_text}\n",
    "            \"\"\"\n",
    "\n",
    "results = approach2(dataset[0:2], llama33, extraction_prompt_template=prompt, system_prompt=system_prompt, log_results=True, verbose=True)"
   ]
  }
 ],
 "metadata": {
  "kernelspec": {
   "display_name": "base",
   "language": "python",
   "name": "python3"
  },
  "language_info": {
   "codemirror_mode": {
    "name": "ipython",
    "version": 3
   },
   "file_extension": ".py",
   "mimetype": "text/x-python",
   "name": "python",
   "nbconvert_exporter": "python",
   "pygments_lexer": "ipython3",
   "version": "3.9.12"
  }
 },
 "nbformat": 4,
 "nbformat_minor": 2
}
