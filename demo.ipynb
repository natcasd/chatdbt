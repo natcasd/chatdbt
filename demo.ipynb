{
 "cells": [
  {
   "cell_type": "markdown",
   "metadata": {},
   "source": [
    "### code to fetch synthesized dataset"
   ]
  },
  {
   "cell_type": "code",
   "execution_count": 1,
   "metadata": {},
   "outputs": [],
   "source": [
    "import json\n",
    "\n",
    "def get_dataset(dataset_string):\n",
    "  with open(dataset_string, 'r') as file:\n",
    "      data = json.load(file)\n",
    "  return data"
   ]
  },
  {
   "cell_type": "markdown",
   "metadata": {},
   "source": [
    "### approach 1 with different models and prompts"
   ]
  },
  {
   "cell_type": "code",
   "execution_count": null,
   "metadata": {},
   "outputs": [],
   "source": [
    "from approach1 import approach1\n",
    "from llms.llm_interaction import OpenAIClient, GroqClient\n",
    "\n",
    "#load dataset\n",
    "patient_records = get_dataset(\"datasets/patient_records2.json\")\n",
    "\n",
    "gpt4o = OpenAIClient(model=\"gpt-4o\")\n",
    "llama33 = GroqClient(model=\"llama-3.3-70b-versatile\")\n",
    "\n",
    "prompt_template = \"Given the following patient record, identify if it matches the following semantic regex pattern: {regex} Return either true OR false, nothing else.\\n\\nPatient Record: {record_text}\"\n",
    "\n",
    "system_prompt = \"You are a helpful AI assistant that only answers True or False based on patient data and provided semantic regex matching.\""
   ]
  },
  {
   "cell_type": "markdown",
   "metadata": {},
   "source": [
    "#### Approach 1: GPT-4o"
   ]
  },
  {
   "cell_type": "code",
   "execution_count": null,
   "metadata": {},
   "outputs": [],
   "source": [
    "pred, true = approach1(patient_records[0:1], gpt4o, prompt_template=prompt_template, system_prompt=system_prompt, verbose=True)"
   ]
  },
  {
   "cell_type": "markdown",
   "metadata": {},
   "source": [
    "#### Approach 1: llama-3.3 (via Groq)"
   ]
  },
  {
   "cell_type": "code",
   "execution_count": null,
   "metadata": {},
   "outputs": [],
   "source": [
    "pred, true = approach1(patient_records[0:1], llama33, prompt_template=prompt_template, system_prompt=system_prompt, verbose=True)"
   ]
  },
  {
   "cell_type": "markdown",
   "metadata": {},
   "source": [
    "### approach 2 with different models and prompts"
   ]
  },
  {
   "cell_type": "code",
   "execution_count": 4,
   "metadata": {},
   "outputs": [
    {
     "name": "stdout",
     "output_type": "stream",
     "text": [
      "OpenAI client initialized with model: gpt-4o\n",
      "Groq client initialized with model: llama-3.3-70b-versatile\n"
     ]
    }
   ],
   "source": [
    "from approach2 import approach2\n",
    "from llms.llm_interaction import OpenAIClient, GroqClient\n",
    "\n",
    "#load dataset\n",
    "patient_records = get_dataset(\"datasets/patient_records2.json\")\n",
    "\n",
    "gpt4o = OpenAIClient(model=\"gpt-4o\")\n",
    "llama33 = GroqClient(model=\"llama-3.3-70b-versatile\")\n",
    "\n",
    "#instructions for the model to extract the semantic symbols from the patient record\n",
    "extraction_prompt = \"Given the following patient record, extract the following semantic symbols if they exist: {regex}. Return a machine parseable dictionary with <symbol>: extracted text pairs. IMPORTANT: Only return the dictionary, nothing else.\\n\\nPatient Record: {record_text}\"\n",
    "\n",
    "#general model instructions to better align\n",
    "system_prompt = \"You are a helpful AI assistant that strictly outputs a python dictionary with <symbol>: extracted text pairs, that can be parsed with ast.literal_eval().\""
   ]
  },
  {
   "cell_type": "markdown",
   "metadata": {},
   "source": [
    "#### Approach 2: GPT-4o"
   ]
  },
  {
   "cell_type": "code",
   "execution_count": null,
   "metadata": {},
   "outputs": [],
   "source": [
    "pred, true = approach2(patient_records[0:1], gpt4o, extraction_prompt_template=extraction_prompt, system_prompt=system_prompt, verbose=True)"
   ]
  },
  {
   "cell_type": "markdown",
   "metadata": {},
   "source": [
    "#### Approach 2: llama-3.3 (via Groq)"
   ]
  },
  {
   "cell_type": "code",
   "execution_count": 6,
   "metadata": {},
   "outputs": [
    {
     "name": "stdout",
     "output_type": "stream",
     "text": [
      "Processing 5 records...\n",
      "\n",
      "================================================================================\n",
      "Patient Record:\n",
      "ADMISSION DIAGNOSIS\n",
      "Pancytosis with concerns for chronic myeloproliferative disorder versus myeloproliferative neoplasm was diagnosed in an eighty-year-old female retired school teacher, presenting to the emergency department upon advice of primary care for abnormal laboratory findings discovered during evaluation of fatigue.\n",
      "\n",
      "HISTORY OF PRESENT ILLNESS\n",
      "The patient reports several weeks of progressive and severe fatigue and weight loss that made daily tasks difficult, necessitating help with managing the household from family members. The primary care provider initially attributed these findings to aging, poor diet, and deconditioning but pursued laboratory evaluations when symptom severity necessitated an ER evaluation. This led to the discovery of abnormal blood work.\n",
      "\n",
      "PAST MEDICAL HISTORY\n",
      "Relevant medical conditions include coronary artery disease managed by medications including carvedilol, a prior appendicitis treated surgically at a young age, and diet-controlled type 2 diabetes.\n",
      "\n",
      "SOCIAL HISTORY\n",
      "The patient had smoked a pack and a half per week when her husband developed chronic lung disease but reduced smoking by two-thirds since then and continues with decreased frequency, citing this change as due in part to her husband needing a clean living environment for health improvement purposes.\n",
      "\n",
      "PHYSICAL EXAMINATION\n",
      "The initial evaluation at admission revealed a thin female appearing frail, slightly anxious but oriented times four. Vital signs are stable though there does exist pronounced lymphadenopathy and notable hepatosplenomegaly which were further studied in subsequent workup for etiology assessment.\n",
      "\n",
      "LABORATORY DATA\n",
      "A CBC with differential showed pancytosis concerning possible myeloproliferative neoplasm but initial peripheral blood film was felt suggestive of leukoerythroblastosis in bone marrow examination misleads to possible interpretation for chronic disease states including possible secondary causes in absence confirmatory studies, in an eighty-year-old female retired teaching staff. The patient had thrombophilic mutations that were noted during workup including Factor V that can increase the clotting tendency as noted through Factor V assay test in her labs which initially may appear not significantly impactful by a physician but when viewed with all patient information provided an interesting insight.\n",
      "\n",
      "HOSPITAL COURSE\n",
      "Patient underwent further testing, notably a flow cytometric evaluation alongside the initial findings that provided valuable evidence guiding treatment that may help address her disease state while a review and assessment through imaging were pursued, a notable CT scan showing diffuse lymph node involvement in the context of the previously discovered abnormal lab finding led a radiologist on a misinterpretation by patient regarding diffuse adenopathy, where patient inappropriately interpreted her PET result without considering her diffuse adenitis diagnosis previously and her physician felt patient understanding needed careful clarification with her bone findings being critical information. This necessitated a team of specialist, led by a primary medical care attending working closely, ensuring that her clinical care needs including addressing and alleviating the root concerns and her symptom improvement goals, alongside management by hematologists were fully achieved during this inpatient hospital stay with a view toward optimizing symptom relief measures post-discharge.\n",
      "\n",
      "Semantic Regex: <diagnostic_test><patient><misinterpretation>\n",
      "\n",
      "Extracted Symbols Dictionary:\n",
      "  - diagnostic_test: CBC with differential, peripheral blood film, bone marrow examination, Factor V assay test, flow cytometric evaluation, CT scan, PET scan\n",
      "  - patient: an eighty-year-old female retired school teacher\n",
      "  - misinterpretation: patient misinterpretation of PET result, radiologist misinterpretation of diffuse adenopathy\n",
      "FSM Result: All required symbols found.\n",
      "Model prediction: True, Actual: True\n",
      "================================================================================\n",
      "\n",
      "================================================================================\n",
      "Patient Record:\n",
      "ADMISSION DIAGNOSIS \n",
      "Pneumonia in a twenty-five-year-old graduate student admitted with worsening shortness of breath and cough over two weeks.\n",
      "\n",
      "HISTORY OF PRESENT ILLNESS \n",
      "This patient's acute illness began with general fatigue and a sore throat, quickly progressing to include cough and difficulty breathing. Over the two-week period, she experienced night sweats and lost seven pounds despite having an unusually good appetite. Prior to this episode, she felt perfectly healthy and was physically very active with a part-time job as an aerobics instructor. \n",
      "\n",
      "PAST MEDICAL HISTORY \n",
      "Her chronic conditions include mild intermittent asthma controlled using occasional doses of an albuterol inhaler. She reported receiving the flu and Covid vaccines as recommended during her regular physical exams at a college clinic. In childhood, a mild penicillin allergy with rash occurred. All dental issues, she said, were handled in a college oral clinic that managed students on her dental plan, but did not detail the treatment or specific diagnoses other than some minor cavities that were corrected.\n",
      "\n",
      "SOCIAL HISTORY \n",
      "Socially, this individual reported heavy cigarette and periodic hookah usage since age nineteen alongside an increasingly sedentary lifestyle from working extended hours preparing lesson plans as a recent educator.  However, as physical education instructor, her schedule allowed a mix of physical activity during work as instructor with heavy student population of younger children. This lifestyle transition was accompanied by irregular use of alcohol on social engagements over many past social weekends while enjoying nightlife music and events on weekends but has significantly decreased such use following some recent life events in favor other pursuits outside teaching field now more frequently pursued instead in recent personal time outside that job description that now has allowed some return of physical activity outside work schedule as part of leisure or fun again without that past sedentary routine at home previously so predominant.\n",
      "\n",
      "\n",
      "PHYSICAL EXAMINATION \n",
      "Her vitals presented an oral temperature of 101.9 Fahrenheit along with pulse of 106, BP was 128/74 mm/Hg. Pulse-Ox revealed an oxygen saturation of 92% in room air upon intake at ER, later corrected using oxygen at increasing Fi0 percentages until adequate. Rales and other sounds detected at left lung on exam were indicative of left lobe consolidation. \n",
      "\n",
      "LABORATORY DATA \n",
      "Blood cell differentials did suggest mild elevated WBCs at nearly twice baseline with elevated markers and bands observed upon manual review. Radiology imaging from the portable antero-post views demonstrated increased infiltration at lung fields bilaterally and especially in a lobe, but less in right side, thus, supporting our impression in ER after thorough review of diagnostic data.\n",
      "\n",
      "HOSPITAL COURSE \n",
      "Antibacterial treatment of ampicillin and sulfactant combination given empirically on intake for coverage of likely cause pending additional lab confirmation which later became positive in the following forty-eight hours as blood results came back and confirmed a specific gram stain and final cultures, later fully identifying and isolating Pneumococcus in a respiratory lab.\n",
      "\n",
      "Semantic Regex: <diagnostic_test><patient><misinterpretation>\n",
      "\n",
      "Extracted Symbols Dictionary:\n",
      "  - diagnostic_test: Blood cell differentials, Radiology imaging, Pulse-Ox, gram stain and final cultures\n",
      "  - patient: a twenty-five-year-old graduate student\n",
      "  - misinterpretation: none\n",
      "FSM Result: All required symbols found.\n",
      "Model prediction: True, Actual: False\n",
      "================================================================================\n",
      "\n",
      "================================================================================\n",
      "Patient Record:\n",
      "The admission diagnosis for eighty-two year old retired carpenter Harold Wilson was a lower gastrointestinal bleed, which prompted an urgent hospital admission for immediate evaluation and management.\n",
      "\n",
      "A detailed recount of events prior to admission by Harold Wilson revealed a history of melena over the past few days, characterized by frequent passage of maroon-colored stools, and significant weakness. The passage of these stools began about seventy-two hours prior to hospital admission and became gradually more frequent and was accompanied by a mild to moderate degree of abdominal cramping not specifically localized to any area of the abdomen.\n",
      "\n",
      "Prior to the onset of these gastrointestinal symptoms Harold had been managed as an outpatient with hypertension for more than twenty-five years and also had established coronary artery disease which included previous percutaneous interventions as well as being diabetic. He also suffered from early-stage chronic obstructive pulmonary disease that has not necessitated recent emergency or clinic medical interventions within the last eighteen months, aside for regular follow-ups. Harold takes aspirin one hundred milligrams and atorvastatin twenty milligrams every day for cardiovascular health together with insulin glargine forty-seven units before sleep and also insulin aspart prior to most lunches.\n",
      "\n",
      "Harold has been living alone since becoming widowed nine years ago in a house near an elementary school and leads a relatively simple and unremarkable social life spending his mornings performing low-intensity carpentry jobs to maintain physical flexibility and spends evenings listening either to books read aloud from public broadcasting services on television, taking gentle twenty-minute walks every now and then depending on seasonal weather. \n",
      "\n",
      "Clinical observations of a generally fragile physical stature was immediately evident while performing examination on Harold during admission. On his physical examination Harold displayed signs indicating some evidence of an anemia which manifested as a generalised pallor and his cardiac and pulmonary examinations did seem within expected norms. Not much was immediately detected concerning abdominal palpations, and bowel sounds appear reduced in both tone and frequency, likely an indication Harold is experiencing ongoing gastrointestinal tract bleeding that will necessitate careful haemodynamic support during the early acute care in his admission to manage and reduce ongoing anaemia, alongside blood investigations as part diagnostic process and monitoring.\n",
      "\n",
      "Preliminary results from an admission lab showed that his baseline hematocrit levels are below thirty-one, alongside an increased prothrombin time of twenty-one seconds thus revealing his need to receive multiple unit blood transfusion which he received shortly in intensive care and during it Mr Wilson experienced the first signs of hemolytic transfusion reaction requiring discontinuation after only sixty millilitres administration was observed, resulting promptly from onset, this reaction led Mr Harold immediately undergo additional evaluation with further diagnostics, with more lab draws, imaging ordered in a rush, with additional medication started urgently, which led ultimately Harold being placed for monitoring, as clinically appropriate in Intensive Care.\n",
      "\n",
      "The progression and monitoring during initial care on admission involved multiple specialists and interventions as is typical in such bleeding incidents where patient instability occurs. During monitoring the acute gastrointestinal source was diagnosed with endoscopy revealing one large polyp at the descending left flexure region requiring a subsequent endoscopic clipping procedure, performed on the day post first observation, this stabilised bleeding in the region effectively without further intervention on this particular region required and he went into monitoring on a step down for several days prior discharge from a stable recovery. During that time Mr Harold showed some increase from admission on baseline haematocrit of forty-seven without needing a requirement of transfusion therapy during or following recovery stay within step-down recovery and this was monitored in conjunction\n",
      "\n",
      "Semantic Regex: <patient><transfusion><transfusion_reaction>\n",
      "\n",
      "Extracted Symbols Dictionary:\n",
      "  - patient: Harold Wilson\n",
      "  - transfusion: multiple unit blood transfusion\n",
      "  - transfusion_reaction: hemolytic transfusion reaction\n",
      "FSM Result: All required symbols found.\n",
      "Model prediction: True, Actual: True\n",
      "================================================================================\n",
      "\n",
      "================================================================================\n",
      "Patient Record:\n",
      "ADMISSION DIAGNOSIS\n",
      "The patient is a 62-year-old machinist admitted with acute kidney injury and severe anemia, likely due to complications from a recent traumatic injury. The injury occurred when the patient was involved in a car accident on his way home from work.\n",
      "\n",
      "HISTORY OF PRESENT ILLNESS\n",
      "The patient reported experiencing sudden onset abdominal pain and vomiting about six hours prior to presentation, prompting his wife to call emergency services. On route to the hospital, the patient became hypotensive but responded well to fluid resuscitation administered by paramedics. \n",
      "\n",
      "PAST MEDICAL HISTORY\n",
      "The patient has a lengthy medical history including hypertension, heart disease, hyperlipidemia, and a previous transfusion for gastrointestinal bleeding about ten years ago due to an ulcer. He takes atorvastatin and beta blockers for his cardiac condition and is known to occasionally miss taking his atenolol, leading to episodes of poorly controlled hypertension.\n",
      "\n",
      "SOCIAL HISTORY\n",
      "He is a self-retired machinist, living alone with his wife, does not smoke, has a past history of significant alcohol use but claims to consume minimally at social occasions, approximately once every 5 to 7 weeks.\n",
      "\n",
      "PHYSICAL EXAMINATION\n",
      "The patient appeared fatigued, somewhat anxious and in considerable discomfort throughout the physical exam, reporting a severe abdominal pain radiating down towards the flank, indicative of a serious renal injury. He is being treated with a broad-spectrum antibiotic after evidence was found suggestive of the onset of urosepsis, which the attending physician believed complicated his renal injury.\n",
      "\n",
      "LABORATORY DATA\n",
      "On admission his complete blood count revealed his hematocrit was at a low eighteen, white blood cell count was twenty thousand, which has significantly dropped after antibiotic treatment initiated upon admission. Creatinine was at three point three mg/dL.\n",
      "\n",
      "HOSPITAL COURSE\n",
      "Given his complex medical history including evidence of poor past renal function, it took his kidneys a longer period than generally noted to fully start the healing and regeneration of new kidney tissues post injury, as a result requiring a short course of therapy in renal recovery unit post injury healing period but has progressively improved with supportive treatment, the patient responded positively showing signs of improved vital signs throughout hospital stay but was required an extended admission due complexity in managing renal issue as part recovery and care plan included careful fluid status evaluation throughout his hospitalization with eventual resolution and preparation being made now for discharge, he will need close supervision as part the aftercare management.\n",
      "\n",
      "Semantic Regex: <patient><transfusion><transfusion_reaction>\n",
      "\n",
      "Extracted Symbols Dictionary:\n",
      "  - patient: a 62-year-old machinist\n",
      "  - transfusion: a previous transfusion for gastrointestinal bleeding about ten years ago due to an ulcer\n",
      "  - transfusion_reaction: none\n",
      "FSM Result: All required symbols found.\n",
      "Model prediction: True, Actual: False\n",
      "================================================================================\n",
      "\n",
      "================================================================================\n",
      "Patient Record:\n",
      "A 62-year-old former coal miner was admitted with shortness of breath, which initially presented as mild exertional dyspnea but progressively worsened over several weeks. The admission diagnosis was acute exacerbation of chronic obstructive pulmonary disease, compounded by pulmonary fibrosis likely secondary to long-standing occupational exposure to dust.\n",
      "\n",
      "The history of present illness began approximately three months prior when the patient first started noticing breathing difficulties during his daily walks. These symptoms gradually worsened, despite his efforts to manage them with over-the-counter medication. Recently, he had a fever andproductive cough, further increasing the severity of his condition.\n",
      "\n",
      "Past medical history was notable for chronic obstructive pulmonary disease, hypertension, hyperlipidemia, and lung cancer, for which he had undergone chemotherapy two years prior. Notably, the chemotherapy regimen used had included a component known to have pulmonary toxicity, which could potentially exacerbate pulmonary conditions in the long term.\n",
      "\n",
      "The patient's social history included a history of heavy smoking, approximately one and a half packs per day for over thirty years. He had also been heavily exposed to dust during his years as a coal miner and only quit recently due to declining health. Despite multiple health issues, he continued to socially drink, consuming one to two beers daily.\n",
      "\n",
      "Physical examination revealed a slightly febrile patient with a respiratory rate of 32, oxygen saturation 89% on ambient air, and significant signs of lung hyperinflation. His breath sounds were markedly decreased.\n",
      "\n",
      "Laboratory data showed a significant decline in pulmonary function, as evidenced by his PFT results. His arterial blood gas results confirmed hypoxemia, with a pO2 of 65. Blood counts revealed a neutrophilia indicative of a bacterial infection, prompting empiric antibiotic coverage.\n",
      "\n",
      "During the hospital course, the patient underwent a regimen directed towards optimizing his oxygenation, managing his infection, and adjusting his long-term respiratory management plan. This included aggressive bronchodilator and mucolytic therapy, oxygen supplementation as needed, and targeted antibiotic therapy guided by subsequent microbiology reports. He was also counseled on strict avoidance of alcohol and cigarettes to slow the deterioration of pulmonary function.\n",
      "\n",
      "Considering his exposure to chemotherapy known for pulmonary toxicity, particular attention was paid to his respiratory system, monitoring closely for signs that might indicate the exacerbation of pre-existing pulmonary issues or new complications arising from his extensive medical and occupational exposures. Upon recovery from thisacute illness, he was scheduled for intensive chest physical therapy to assist in returning him to full capacity and a plan for regular follow-up visits was laid out for the early detection of worsening symptoms or disease progression.\n",
      "\n",
      "Semantic Regex: <patient><chemotherapy><toxicity>\n",
      "\n",
      "Extracted Symbols Dictionary:\n",
      "  - patient: A 62-year-old former coal miner\n",
      "  - chemotherapy: chemotherapy regimen used had included a component known to have pulmonary toxicity\n",
      "  - toxicity: pulmonary toxicity\n",
      "FSM Result: All required symbols found.\n",
      "Model prediction: True, Actual: True\n",
      "================================================================================\n",
      "accuracy of model over 5 generated records: 0.6\n",
      "precision of model over 5 generated records: 0.6\n",
      "recall of model over 5 generated records: 1.0\n",
      "f1 of model over 5 generated records: 0.7499999999999999\n"
     ]
    }
   ],
   "source": [
    "pred, true = approach2(patient_records[0:5], llama33, extraction_prompt_template=extraction_prompt, system_prompt=system_prompt, verbose=True)"
   ]
  }
 ],
 "metadata": {
  "kernelspec": {
   "display_name": "base",
   "language": "python",
   "name": "python3"
  },
  "language_info": {
   "codemirror_mode": {
    "name": "ipython",
    "version": 3
   },
   "file_extension": ".py",
   "mimetype": "text/x-python",
   "name": "python",
   "nbconvert_exporter": "python",
   "pygments_lexer": "ipython3",
   "version": "3.9.12"
  }
 },
 "nbformat": 4,
 "nbformat_minor": 2
}
