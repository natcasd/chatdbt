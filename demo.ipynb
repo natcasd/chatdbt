{
 "cells": [
  {
   "cell_type": "markdown",
   "metadata": {},
   "source": [
    "### code to fetch synthesized dataset"
   ]
  },
  {
   "cell_type": "code",
   "execution_count": 1,
   "metadata": {},
   "outputs": [],
   "source": [
    "import json\n",
    "\n",
    "def get_dataset(dataset_string):\n",
    "  with open(dataset_string, 'r') as file:\n",
    "      data = json.load(file)\n",
    "  return data"
   ]
  },
  {
   "cell_type": "markdown",
   "metadata": {},
   "source": [
    "### approach 1 with different models and prompts"
   ]
  },
  {
   "cell_type": "code",
   "execution_count": 4,
   "metadata": {},
   "outputs": [
    {
     "name": "stdout",
     "output_type": "stream",
     "text": [
      "OpenAI client initialized with model: gpt-4o\n",
      "Groq client initialized with model: llama-3.3-70b-versatile\n"
     ]
    }
   ],
   "source": [
    "from approach1 import approach1\n",
    "from llms.llm_interaction import OpenAIClient, GroqClient\n",
    "\n",
    "#load dataset\n",
    "patient_records = get_dataset(\"datasets/patient_records2.json\")\n",
    "\n",
    "gpt4o = OpenAIClient(model=\"gpt-4o\")\n",
    "llama33 = GroqClient(model=\"llama-3.3-70b-versatile\")\n",
    "\n",
    "prompt_template = \"Given the following patient record, identify if it matches the following semantic regex pattern: {regex} Return either true OR false, nothing else.\\n\\nPatient Record: {record_text}\"\n",
    "\n",
    "system_prompt = \"You are a helpful AI assistant that only answers True or False based on patient data and provided semantic regex matching.\""
   ]
  },
  {
   "cell_type": "markdown",
   "metadata": {},
   "source": [
    "#### Approach 1: GPT-4o"
   ]
  },
  {
   "cell_type": "code",
   "execution_count": 5,
   "metadata": {},
   "outputs": [
    {
     "name": "stdout",
     "output_type": "stream",
     "text": [
      "Processing 1 records...\n",
      "Error generating text with OpenAI: Error code: 429 - {'error': {'message': 'You exceeded your current quota, please check your plan and billing details. For more information on this error, read the docs: https://platform.openai.com/docs/guides/error-codes/api-errors.', 'type': 'insufficient_quota', 'param': None, 'code': 'insufficient_quota'}}\n",
      "\n",
      "================================================================================\n",
      "\n",
      "Patient Record: ADMISSION DIAGNOSIS\n",
      "Pancytosis with concerns for chronic myeloproliferative disorder versus myeloproliferative neoplasm was diagnosed in an eighty-year-old female retired school teacher, presenting to the emergency department upon advice of primary care for abnormal laboratory findings discovered during evaluation of fatigue.\n",
      "\n",
      "HISTORY OF PRESENT ILLNESS\n",
      "The patient reports several weeks of progressive and severe fatigue and weight loss that made daily tasks difficult, necessitating help with managing the household from family members. The primary care provider initially attributed these findings to aging, poor diet, and deconditioning but pursued laboratory evaluations when symptom severity necessitated an ER evaluation. This led to the discovery of abnormal blood work.\n",
      "\n",
      "PAST MEDICAL HISTORY\n",
      "Relevant medical conditions include coronary artery disease managed by medications including carvedilol, a prior appendicitis treated surgically at a young age, and diet-controlled type 2 diabetes.\n",
      "\n",
      "SOCIAL HISTORY\n",
      "The patient had smoked a pack and a half per week when her husband developed chronic lung disease but reduced smoking by two-thirds since then and continues with decreased frequency, citing this change as due in part to her husband needing a clean living environment for health improvement purposes.\n",
      "\n",
      "PHYSICAL EXAMINATION\n",
      "The initial evaluation at admission revealed a thin female appearing frail, slightly anxious but oriented times four. Vital signs are stable though there does exist pronounced lymphadenopathy and notable hepatosplenomegaly which were further studied in subsequent workup for etiology assessment.\n",
      "\n",
      "LABORATORY DATA\n",
      "A CBC with differential showed pancytosis concerning possible myeloproliferative neoplasm but initial peripheral blood film was felt suggestive of leukoerythroblastosis in bone marrow examination misleads to possible interpretation for chronic disease states including possible secondary causes in absence confirmatory studies, in an eighty-year-old female retired teaching staff. The patient had thrombophilic mutations that were noted during workup including Factor V that can increase the clotting tendency as noted through Factor V assay test in her labs which initially may appear not significantly impactful by a physician but when viewed with all patient information provided an interesting insight.\n",
      "\n",
      "HOSPITAL COURSE\n",
      "Patient underwent further testing, notably a flow cytometric evaluation alongside the initial findings that provided valuable evidence guiding treatment that may help address her disease state while a review and assessment through imaging were pursued, a notable CT scan showing diffuse lymph node involvement in the context of the previously discovered abnormal lab finding led a radiologist on a misinterpretation by patient regarding diffuse adenopathy, where patient inappropriately interpreted her PET result without considering her diffuse adenitis diagnosis previously and her physician felt patient understanding needed careful clarification with her bone findings being critical information. This necessitated a team of specialist, led by a primary medical care attending working closely, ensuring that her clinical care needs including addressing and alleviating the root concerns and her symptom improvement goals, alongside management by hematologists were fully achieved during this inpatient hospital stay with a view toward optimizing symptom relief measures post-discharge.\n",
      "Semantic Regex: <diagnostic_test><patient><misinterpretation>\n",
      "Model prediction: False, Actual: True\n",
      "================================================================================\n",
      "accuracy of model over 1 generated records: 0.0\n",
      "precision of model over 1 generated records: 0.0\n",
      "recall of model over 1 generated records: 0.0\n",
      "f1 of model over 1 generated records: 0.0\n"
     ]
    }
   ],
   "source": [
    "pred, true = approach1(patient_records[0:1], gpt4o, prompt_template=prompt_template, system_prompt=system_prompt, verbose=True)"
   ]
  },
  {
   "cell_type": "markdown",
   "metadata": {},
   "source": [
    "#### Approach 1: llama-3.3 (via Groq)"
   ]
  },
  {
   "cell_type": "code",
   "execution_count": 6,
   "metadata": {},
   "outputs": [
    {
     "name": "stdout",
     "output_type": "stream",
     "text": [
      "Processing 1 records...\n",
      "\n",
      "================================================================================\n",
      "\n",
      "Patient Record: ADMISSION DIAGNOSIS\n",
      "Pancytosis with concerns for chronic myeloproliferative disorder versus myeloproliferative neoplasm was diagnosed in an eighty-year-old female retired school teacher, presenting to the emergency department upon advice of primary care for abnormal laboratory findings discovered during evaluation of fatigue.\n",
      "\n",
      "HISTORY OF PRESENT ILLNESS\n",
      "The patient reports several weeks of progressive and severe fatigue and weight loss that made daily tasks difficult, necessitating help with managing the household from family members. The primary care provider initially attributed these findings to aging, poor diet, and deconditioning but pursued laboratory evaluations when symptom severity necessitated an ER evaluation. This led to the discovery of abnormal blood work.\n",
      "\n",
      "PAST MEDICAL HISTORY\n",
      "Relevant medical conditions include coronary artery disease managed by medications including carvedilol, a prior appendicitis treated surgically at a young age, and diet-controlled type 2 diabetes.\n",
      "\n",
      "SOCIAL HISTORY\n",
      "The patient had smoked a pack and a half per week when her husband developed chronic lung disease but reduced smoking by two-thirds since then and continues with decreased frequency, citing this change as due in part to her husband needing a clean living environment for health improvement purposes.\n",
      "\n",
      "PHYSICAL EXAMINATION\n",
      "The initial evaluation at admission revealed a thin female appearing frail, slightly anxious but oriented times four. Vital signs are stable though there does exist pronounced lymphadenopathy and notable hepatosplenomegaly which were further studied in subsequent workup for etiology assessment.\n",
      "\n",
      "LABORATORY DATA\n",
      "A CBC with differential showed pancytosis concerning possible myeloproliferative neoplasm but initial peripheral blood film was felt suggestive of leukoerythroblastosis in bone marrow examination misleads to possible interpretation for chronic disease states including possible secondary causes in absence confirmatory studies, in an eighty-year-old female retired teaching staff. The patient had thrombophilic mutations that were noted during workup including Factor V that can increase the clotting tendency as noted through Factor V assay test in her labs which initially may appear not significantly impactful by a physician but when viewed with all patient information provided an interesting insight.\n",
      "\n",
      "HOSPITAL COURSE\n",
      "Patient underwent further testing, notably a flow cytometric evaluation alongside the initial findings that provided valuable evidence guiding treatment that may help address her disease state while a review and assessment through imaging were pursued, a notable CT scan showing diffuse lymph node involvement in the context of the previously discovered abnormal lab finding led a radiologist on a misinterpretation by patient regarding diffuse adenopathy, where patient inappropriately interpreted her PET result without considering her diffuse adenitis diagnosis previously and her physician felt patient understanding needed careful clarification with her bone findings being critical information. This necessitated a team of specialist, led by a primary medical care attending working closely, ensuring that her clinical care needs including addressing and alleviating the root concerns and her symptom improvement goals, alongside management by hematologists were fully achieved during this inpatient hospital stay with a view toward optimizing symptom relief measures post-discharge.\n",
      "Semantic Regex: <diagnostic_test><patient><misinterpretation>\n",
      "Model prediction: True, Actual: True\n",
      "================================================================================\n",
      "accuracy of model over 1 generated records: 1.0\n",
      "precision of model over 1 generated records: 1.0\n",
      "recall of model over 1 generated records: 1.0\n",
      "f1 of model over 1 generated records: 1.0\n"
     ]
    }
   ],
   "source": [
    "pred, true = approach1(patient_records[0:1], llama33, prompt_template=prompt_template, system_prompt=system_prompt, verbose=True)"
   ]
  },
  {
   "cell_type": "markdown",
   "metadata": {},
   "source": [
    "### approach 2 with different models and prompts"
   ]
  },
  {
   "cell_type": "code",
   "execution_count": 7,
   "metadata": {},
   "outputs": [
    {
     "name": "stdout",
     "output_type": "stream",
     "text": [
      "OpenAI client initialized with model: gpt-4o\n",
      "Groq client initialized with model: llama-3.3-70b-versatile\n"
     ]
    }
   ],
   "source": [
    "from approach2 import approach2\n",
    "from llms.llm_interaction import OpenAIClient, GroqClient\n",
    "\n",
    "#load dataset\n",
    "patient_records = get_dataset(\"datasets/patient_records2.json\")\n",
    "\n",
    "gpt4o = OpenAIClient(model=\"gpt-4o\")\n",
    "llama33 = GroqClient(model=\"llama-3.3-70b-versatile\")\n",
    "\n",
    "#instructions for the model to extract the semantic symbols from the patient record\n",
    "extraction_prompt = \"Given the following patient record, extract the following semantic symbols if they exist: {regex}. Return a machine parseable dictionary with <symbol>: extracted text pairs. IMPORTANT: Only return the dictionary, nothing else.\\n\\nPatient Record: {record_text}\"\n",
    "\n",
    "#general model instructions to better align\n",
    "system_prompt = \"You are a helpful AI assistant that strictly outputs a python dictionary with <symbol>: extracted text pairs, that can be parsed with ast.literal_eval().\""
   ]
  },
  {
   "cell_type": "markdown",
   "metadata": {},
   "source": [
    "#### Approach 2: GPT-4o"
   ]
  },
  {
   "cell_type": "code",
   "execution_count": 8,
   "metadata": {},
   "outputs": [
    {
     "name": "stdout",
     "output_type": "stream",
     "text": [
      "Processing 1 records...\n",
      "\n",
      "================================================================================\n",
      "Patient Record:\n",
      "ADMISSION DIAGNOSIS\n",
      "Pancytosis with concerns for chronic myeloproliferative disorder versus myeloproliferative neoplasm was diagnosed in an eighty-year-old female retired school teacher, presenting to the emergency department upon advice of primary care for abnormal laboratory findings discovered during evaluation of fatigue.\n",
      "\n",
      "HISTORY OF PRESENT ILLNESS\n",
      "The patient reports several weeks of progressive and severe fatigue and weight loss that made daily tasks difficult, necessitating help with managing the household from family members. The primary care provider initially attributed these findings to aging, poor diet, and deconditioning but pursued laboratory evaluations when symptom severity necessitated an ER evaluation. This led to the discovery of abnormal blood work.\n",
      "\n",
      "PAST MEDICAL HISTORY\n",
      "Relevant medical conditions include coronary artery disease managed by medications including carvedilol, a prior appendicitis treated surgically at a young age, and diet-controlled type 2 diabetes.\n",
      "\n",
      "SOCIAL HISTORY\n",
      "The patient had smoked a pack and a half per week when her husband developed chronic lung disease but reduced smoking by two-thirds since then and continues with decreased frequency, citing this change as due in part to her husband needing a clean living environment for health improvement purposes.\n",
      "\n",
      "PHYSICAL EXAMINATION\n",
      "The initial evaluation at admission revealed a thin female appearing frail, slightly anxious but oriented times four. Vital signs are stable though there does exist pronounced lymphadenopathy and notable hepatosplenomegaly which were further studied in subsequent workup for etiology assessment.\n",
      "\n",
      "LABORATORY DATA\n",
      "A CBC with differential showed pancytosis concerning possible myeloproliferative neoplasm but initial peripheral blood film was felt suggestive of leukoerythroblastosis in bone marrow examination misleads to possible interpretation for chronic disease states including possible secondary causes in absence confirmatory studies, in an eighty-year-old female retired teaching staff. The patient had thrombophilic mutations that were noted during workup including Factor V that can increase the clotting tendency as noted through Factor V assay test in her labs which initially may appear not significantly impactful by a physician but when viewed with all patient information provided an interesting insight.\n",
      "\n",
      "HOSPITAL COURSE\n",
      "Patient underwent further testing, notably a flow cytometric evaluation alongside the initial findings that provided valuable evidence guiding treatment that may help address her disease state while a review and assessment through imaging were pursued, a notable CT scan showing diffuse lymph node involvement in the context of the previously discovered abnormal lab finding led a radiologist on a misinterpretation by patient regarding diffuse adenopathy, where patient inappropriately interpreted her PET result without considering her diffuse adenitis diagnosis previously and her physician felt patient understanding needed careful clarification with her bone findings being critical information. This necessitated a team of specialist, led by a primary medical care attending working closely, ensuring that her clinical care needs including addressing and alleviating the root concerns and her symptom improvement goals, alongside management by hematologists were fully achieved during this inpatient hospital stay with a view toward optimizing symptom relief measures post-discharge.\n",
      "\n",
      "Semantic Regex: <diagnostic_test><patient><misinterpretation>\n",
      "Error generating text with OpenAI: Error code: 429 - {'error': {'message': 'You exceeded your current quota, please check your plan and billing details. For more information on this error, read the docs: https://platform.openai.com/docs/guides/error-codes/api-errors.', 'type': 'insufficient_quota', 'param': None, 'code': 'insufficient_quota'}}\n",
      "\n",
      "Extracted Symbols Dictionary:\n",
      "  - error: {'message': 'You exceeded your current quota, please check your plan and billing details. For more information on this error, read the docs: https://platform.openai.com/docs/guides/error-codes/api-errors.', 'type': 'insufficient_quota', 'param': None, 'code': 'insufficient_quota'}\n",
      "FSM Result: Some required symbols are missing: {'s', 't', 'c', 'm', '<', 'g', '>', 'p', 'n', 'i', 'a', 'o', '_', 'e', 'r', 'd'}\n",
      "Model prediction: False, Actual: True\n",
      "================================================================================\n",
      "accuracy of model over 1 generated records: 0.0\n",
      "precision of model over 1 generated records: 0.0\n",
      "recall of model over 1 generated records: 0.0\n",
      "f1 of model over 1 generated records: 0.0\n"
     ]
    }
   ],
   "source": [
    "pred, true = approach2(patient_records[0:1], gpt4o, extraction_prompt_template=extraction_prompt, system_prompt=system_prompt, verbose=True)"
   ]
  },
  {
   "cell_type": "markdown",
   "metadata": {},
   "source": [
    "#### Approach 2: llama-3.3 (via Groq)"
   ]
  },
  {
   "cell_type": "code",
   "execution_count": 9,
   "metadata": {},
   "outputs": [
    {
     "name": "stdout",
     "output_type": "stream",
     "text": [
      "Processing 1 records...\n",
      "\n",
      "================================================================================\n",
      "Patient Record:\n",
      "ADMISSION DIAGNOSIS\n",
      "Pancytosis with concerns for chronic myeloproliferative disorder versus myeloproliferative neoplasm was diagnosed in an eighty-year-old female retired school teacher, presenting to the emergency department upon advice of primary care for abnormal laboratory findings discovered during evaluation of fatigue.\n",
      "\n",
      "HISTORY OF PRESENT ILLNESS\n",
      "The patient reports several weeks of progressive and severe fatigue and weight loss that made daily tasks difficult, necessitating help with managing the household from family members. The primary care provider initially attributed these findings to aging, poor diet, and deconditioning but pursued laboratory evaluations when symptom severity necessitated an ER evaluation. This led to the discovery of abnormal blood work.\n",
      "\n",
      "PAST MEDICAL HISTORY\n",
      "Relevant medical conditions include coronary artery disease managed by medications including carvedilol, a prior appendicitis treated surgically at a young age, and diet-controlled type 2 diabetes.\n",
      "\n",
      "SOCIAL HISTORY\n",
      "The patient had smoked a pack and a half per week when her husband developed chronic lung disease but reduced smoking by two-thirds since then and continues with decreased frequency, citing this change as due in part to her husband needing a clean living environment for health improvement purposes.\n",
      "\n",
      "PHYSICAL EXAMINATION\n",
      "The initial evaluation at admission revealed a thin female appearing frail, slightly anxious but oriented times four. Vital signs are stable though there does exist pronounced lymphadenopathy and notable hepatosplenomegaly which were further studied in subsequent workup for etiology assessment.\n",
      "\n",
      "LABORATORY DATA\n",
      "A CBC with differential showed pancytosis concerning possible myeloproliferative neoplasm but initial peripheral blood film was felt suggestive of leukoerythroblastosis in bone marrow examination misleads to possible interpretation for chronic disease states including possible secondary causes in absence confirmatory studies, in an eighty-year-old female retired teaching staff. The patient had thrombophilic mutations that were noted during workup including Factor V that can increase the clotting tendency as noted through Factor V assay test in her labs which initially may appear not significantly impactful by a physician but when viewed with all patient information provided an interesting insight.\n",
      "\n",
      "HOSPITAL COURSE\n",
      "Patient underwent further testing, notably a flow cytometric evaluation alongside the initial findings that provided valuable evidence guiding treatment that may help address her disease state while a review and assessment through imaging were pursued, a notable CT scan showing diffuse lymph node involvement in the context of the previously discovered abnormal lab finding led a radiologist on a misinterpretation by patient regarding diffuse adenopathy, where patient inappropriately interpreted her PET result without considering her diffuse adenitis diagnosis previously and her physician felt patient understanding needed careful clarification with her bone findings being critical information. This necessitated a team of specialist, led by a primary medical care attending working closely, ensuring that her clinical care needs including addressing and alleviating the root concerns and her symptom improvement goals, alongside management by hematologists were fully achieved during this inpatient hospital stay with a view toward optimizing symptom relief measures post-discharge.\n",
      "\n",
      "Semantic Regex: <diagnostic_test><patient><misinterpretation>\n",
      "\n",
      "Extracted Symbols Dictionary:\n",
      "  - diagnostic_test: CBC with differential, peripheral blood film, bone marrow examination, Factor V assay test, flow cytometric evaluation, CT scan, PET scan\n",
      "  - patient: an eighty-year-old female retired school teacher\n",
      "  - misinterpretation: patient misinterpreted her PET result without considering her diffuse adenitis diagnosis, and radiologist misinterpretation of diffuse lymph node involvement\n",
      "FSM Result: All required symbols found.\n",
      "Model prediction: True, Actual: True\n",
      "================================================================================\n",
      "accuracy of model over 1 generated records: 1.0\n",
      "precision of model over 1 generated records: 1.0\n",
      "recall of model over 1 generated records: 1.0\n",
      "f1 of model over 1 generated records: 1.0\n"
     ]
    }
   ],
   "source": [
    "pred, true = approach2(patient_records[0:1], llama33, extraction_prompt_template=extraction_prompt, system_prompt=system_prompt, verbose=True)"
   ]
  }
 ],
 "metadata": {
  "kernelspec": {
   "display_name": "base",
   "language": "python",
   "name": "python3"
  },
  "language_info": {
   "codemirror_mode": {
    "name": "ipython",
    "version": 3
   },
   "file_extension": ".py",
   "mimetype": "text/x-python",
   "name": "python",
   "nbconvert_exporter": "python",
   "pygments_lexer": "ipython3",
   "version": "3.12.7"
  }
 },
 "nbformat": 4,
 "nbformat_minor": 2
}
