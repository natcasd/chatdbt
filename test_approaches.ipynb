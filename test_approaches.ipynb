{
 "cells": [
  {
   "cell_type": "markdown",
   "metadata": {},
   "source": [
    "** note you need to restart kernel in order to register changes you made to modules (approach1 and approach2)"
   ]
  },
  {
   "cell_type": "code",
   "execution_count": 2,
   "metadata": {},
   "outputs": [],
   "source": [
    "import json\n",
    "\n",
    "def get_dataset(dataset_string):\n",
    "  with open(dataset_string, 'r') as file:\n",
    "      data = json.load(file)\n",
    "  return data"
   ]
  },
  {
   "cell_type": "markdown",
   "metadata": {},
   "source": [
    "### sample code to test different approaches w/ different models, also different iterations of synthetic dataset"
   ]
  },
  {
   "cell_type": "code",
   "execution_count": 2,
   "metadata": {},
   "outputs": [
    {
     "ename": "ModuleNotFoundError",
     "evalue": "No module named 'transitions'",
     "output_type": "error",
     "traceback": [
      "\u001b[0;31m---------------------------------------------------------------------------\u001b[0m",
      "\u001b[0;31mModuleNotFoundError\u001b[0m                       Traceback (most recent call last)",
      "\u001b[0;32m/var/folders/_7/6tgc1swx7wj1dfwwlnnj67mc0000gn/T/ipykernel_62240/4069851113.py\u001b[0m in \u001b[0;36m<module>\u001b[0;34m\u001b[0m\n\u001b[1;32m      1\u001b[0m \u001b[0;32mfrom\u001b[0m \u001b[0mapproach1\u001b[0m \u001b[0;32mimport\u001b[0m \u001b[0mapproach1\u001b[0m\u001b[0;34m\u001b[0m\u001b[0;34m\u001b[0m\u001b[0m\n\u001b[0;32m----> 2\u001b[0;31m \u001b[0;32mfrom\u001b[0m \u001b[0mapproach2\u001b[0m \u001b[0;32mimport\u001b[0m \u001b[0mapproach2\u001b[0m\u001b[0;34m\u001b[0m\u001b[0;34m\u001b[0m\u001b[0m\n\u001b[0m\u001b[1;32m      3\u001b[0m \u001b[0;32mfrom\u001b[0m \u001b[0mllms\u001b[0m\u001b[0;34m.\u001b[0m\u001b[0mllm_interaction\u001b[0m \u001b[0;32mimport\u001b[0m \u001b[0mGroqClient\u001b[0m\u001b[0;34m\u001b[0m\u001b[0;34m\u001b[0m\u001b[0m\n\u001b[1;32m      4\u001b[0m \u001b[0;34m\u001b[0m\u001b[0m\n\u001b[1;32m      5\u001b[0m \u001b[0mpatient_records2\u001b[0m \u001b[0;34m=\u001b[0m \u001b[0mget_dataset\u001b[0m\u001b[0;34m(\u001b[0m\u001b[0;34m'datasets/patient_records2.json'\u001b[0m\u001b[0;34m)\u001b[0m\u001b[0;34m\u001b[0m\u001b[0;34m\u001b[0m\u001b[0m\n",
      "\u001b[0;32m~/Desktop/csci2270/chatdbt/approach2.py\u001b[0m in \u001b[0;36m<module>\u001b[0;34m\u001b[0m\n\u001b[1;32m      5\u001b[0m \u001b[0;32mfrom\u001b[0m \u001b[0mrun_logger\u001b[0m \u001b[0;32mimport\u001b[0m \u001b[0mlog_run_results\u001b[0m\u001b[0;34m\u001b[0m\u001b[0;34m\u001b[0m\u001b[0m\n\u001b[1;32m      6\u001b[0m \u001b[0;32mfrom\u001b[0m \u001b[0mmetrics\u001b[0m\u001b[0;34m.\u001b[0m\u001b[0mmetrics\u001b[0m \u001b[0;32mimport\u001b[0m \u001b[0maccuracy\u001b[0m\u001b[0;34m,\u001b[0m \u001b[0mprecision\u001b[0m\u001b[0;34m,\u001b[0m \u001b[0mrecall\u001b[0m\u001b[0;34m,\u001b[0m \u001b[0mf1_score\u001b[0m\u001b[0;34m\u001b[0m\u001b[0;34m\u001b[0m\u001b[0m\n\u001b[0;32m----> 7\u001b[0;31m \u001b[0;32mfrom\u001b[0m \u001b[0mtransitions\u001b[0m \u001b[0;32mimport\u001b[0m \u001b[0mMachine\u001b[0m\u001b[0;34m\u001b[0m\u001b[0;34m\u001b[0m\u001b[0m\n\u001b[0m\u001b[1;32m      8\u001b[0m \u001b[0;32mimport\u001b[0m \u001b[0mopenai\u001b[0m\u001b[0;34m\u001b[0m\u001b[0;34m\u001b[0m\u001b[0m\n\u001b[1;32m      9\u001b[0m \u001b[0;34m\u001b[0m\u001b[0m\n",
      "\u001b[0;31mModuleNotFoundError\u001b[0m: No module named 'transitions'"
     ]
    }
   ],
   "source": [
    "from approach1 import approach1\n",
    "from approach2 import approach2\n",
    "from llms.llm_interaction import GroqClient\n",
    "\n",
    "patient_records2 = get_dataset('datasets/patient_records2.json')\n",
    "llm_client = GroqClient(model=\"llama-3.3-70b-versatile\")\n",
    "\n",
    "pred, true = approach1(patient_records2[0:5], llm_client)\n",
    "pred, true = approach2(patient_records2[0:5], llm_client)"
   ]
  },
  {
   "cell_type": "markdown",
   "metadata": {},
   "source": [
    "### playing around with prompt templates and dif models"
   ]
  },
  {
   "cell_type": "code",
   "execution_count": 4,
   "metadata": {},
   "outputs": [
    {
     "name": "stdout",
     "output_type": "stream",
     "text": [
      "OpenAI client initialized with model: gpt-4o\n",
      "Claude client initialized with model: claude-3-5-sonnet-20240620\n",
      "Groq client initialized with model: llama-3.3-70b-versatile\n"
     ]
    },
    {
     "name": "stderr",
     "output_type": "stream",
     "text": [
      "Processing records: 100%|██████████| 5/5 [00:02<00:00,  2.39record/s]\n"
     ]
    },
    {
     "name": "stdout",
     "output_type": "stream",
     "text": [
      "accuracy of model over 5 generated records: 0.8\n",
      "precision of model over 5 generated records: 1.0\n",
      "recall of model over 5 generated records: 0.6666666666666666\n",
      "f1 of model over 5 generated records: 0.8\n",
      "====================================================================================================\n"
     ]
    },
    {
     "name": "stderr",
     "output_type": "stream",
     "text": [
      "Processing records:  20%|██        | 1/5 [00:00<00:00,  7.57record/s]"
     ]
    },
    {
     "name": "stdout",
     "output_type": "stream",
     "text": [
      "Error generating text with Claude: Error code: 400 - {'type': 'error', 'error': {'type': 'invalid_request_error', 'message': 'Your credit balance is too low to access the Anthropic API. Please go to Plans & Billing to upgrade or purchase credits.'}}\n",
      "Error generating text with Claude: Error code: 400 - {'type': 'error', 'error': {'type': 'invalid_request_error', 'message': 'Your credit balance is too low to access the Anthropic API. Please go to Plans & Billing to upgrade or purchase credits.'}}\n"
     ]
    },
    {
     "name": "stderr",
     "output_type": "stream",
     "text": [
      "Processing records:  60%|██████    | 3/5 [00:00<00:00, 11.92record/s]"
     ]
    },
    {
     "name": "stdout",
     "output_type": "stream",
     "text": [
      "Error generating text with Claude: Error code: 400 - {'type': 'error', 'error': {'type': 'invalid_request_error', 'message': 'Your credit balance is too low to access the Anthropic API. Please go to Plans & Billing to upgrade or purchase credits.'}}\n",
      "Error generating text with Claude: Error code: 400 - {'type': 'error', 'error': {'type': 'invalid_request_error', 'message': 'Your credit balance is too low to access the Anthropic API. Please go to Plans & Billing to upgrade or purchase credits.'}}\n"
     ]
    },
    {
     "name": "stderr",
     "output_type": "stream",
     "text": [
      "Processing records: 100%|██████████| 5/5 [00:00<00:00, 13.01record/s]\n"
     ]
    },
    {
     "name": "stdout",
     "output_type": "stream",
     "text": [
      "Error generating text with Claude: Error code: 400 - {'type': 'error', 'error': {'type': 'invalid_request_error', 'message': 'Your credit balance is too low to access the Anthropic API. Please go to Plans & Billing to upgrade or purchase credits.'}}\n",
      "accuracy of model over 5 generated records: 0.4\n",
      "precision of model over 5 generated records: 0.0\n",
      "recall of model over 5 generated records: 0.0\n",
      "f1 of model over 5 generated records: 0.0\n",
      "====================================================================================================\n"
     ]
    },
    {
     "name": "stderr",
     "output_type": "stream",
     "text": [
      "Processing records: 100%|██████████| 5/5 [00:03<00:00,  1.36record/s]"
     ]
    },
    {
     "name": "stdout",
     "output_type": "stream",
     "text": [
      "accuracy of model over 5 generated records: 0.4\n",
      "precision of model over 5 generated records: 0.0\n",
      "recall of model over 5 generated records: 0.0\n",
      "f1 of model over 5 generated records: 0.0\n"
     ]
    },
    {
     "name": "stderr",
     "output_type": "stream",
     "text": [
      "\n"
     ]
    }
   ],
   "source": [
    "from llms.llm_interaction import OpenAIClient, AnthropicClient\n",
    "\n",
    "gpt4o = OpenAIClient(model=\"gpt-4o\")\n",
    "sonnet = AnthropicClient(model=\"claude-3-5-sonnet-20240620\")\n",
    "versatile = GroqClient(model=\"llama-3.3-70b-versatile\")\n",
    "\n",
    "prompt_template = \"Check if this semantic regex - {regex} - exists in the following patient record - {record_text}.\"\n",
    "system_prompt = \"You are a helpful AI assistant that only answers True or False based on patient data and provided semantic regex matching.\"\n",
    "\n",
    "pred, true = approach1(patient_records2[0:5], gpt4o, prompt_template=prompt_template, system_prompt=system_prompt)\n",
    "print(\"=\"*100)\n",
    "pred, true = approach1(patient_records2[0:5], sonnet, prompt_template=prompt_template, system_prompt=system_prompt)\n",
    "print(\"=\"*100)\n",
    "pred, true = approach1(patient_records2[0:5], versatile, prompt_template=prompt_template, system_prompt=system_prompt)\n",
    "\n"
   ]
  },
  {
   "cell_type": "markdown",
   "metadata": {},
   "source": [
    "## naive approach 1 (no semantic regex, just nl query)"
   ]
  },
  {
   "cell_type": "code",
   "execution_count": 3,
   "metadata": {},
   "outputs": [
    {
     "name": "stdout",
     "output_type": "stream",
     "text": [
      "OpenAI client initialized with model: gpt-4o\n",
      "Groq client initialized with model: llama-3.3-70b-versatile\n"
     ]
    },
    {
     "name": "stderr",
     "output_type": "stream",
     "text": [
      "Processing records: 100%|██████████| 5/5 [00:03<00:00,  1.43record/s]\n"
     ]
    },
    {
     "name": "stdout",
     "output_type": "stream",
     "text": [
      "accuracy of model over 5 generated records: 1.0\n",
      "precision of model over 5 generated records: 1.0\n",
      "recall of model over 5 generated records: 1.0\n",
      "f1 of model over 5 generated records: 1.0\n"
     ]
    },
    {
     "name": "stderr",
     "output_type": "stream",
     "text": [
      "Processing records: 100%|██████████| 5/5 [00:01<00:00,  2.64record/s]"
     ]
    },
    {
     "name": "stdout",
     "output_type": "stream",
     "text": [
      "accuracy of model over 5 generated records: 1.0\n",
      "precision of model over 5 generated records: 1.0\n",
      "recall of model over 5 generated records: 1.0\n",
      "f1 of model over 5 generated records: 1.0\n"
     ]
    },
    {
     "name": "stderr",
     "output_type": "stream",
     "text": [
      "\n"
     ]
    }
   ],
   "source": [
    "from approach1 import approach1_naive\n",
    "from llms.llm_interaction import OpenAIClient, GroqClient\n",
    "\n",
    "gpt4o = OpenAIClient(model=\"gpt-4o\")\n",
    "versatile = GroqClient(model=\"llama-3.3-70b-versatile\")\n",
    "\n",
    "patient_records2_nl_query = get_dataset('datasets/patient_records2_nl_query.json')\n",
    "\n",
    "pred, true = approach1_naive(patient_records2_nl_query[0:5], gpt4o)\n",
    "# pred, true = approach1_naive(patient_records2[0:5], sonnet)\n",
    "pred, true = approach1_naive(patient_records2_nl_query[0:5], versatile)"
   ]
  }
 ],
 "metadata": {
  "kernelspec": {
   "display_name": "base",
   "language": "python",
   "name": "python3"
  },
  "language_info": {
   "codemirror_mode": {
    "name": "ipython",
    "version": 3
   },
   "file_extension": ".py",
   "mimetype": "text/x-python",
   "name": "python",
   "nbconvert_exporter": "python",
   "pygments_lexer": "ipython3",
   "version": "3.9.12"
  }
 },
 "nbformat": 4,
 "nbformat_minor": 2
}
