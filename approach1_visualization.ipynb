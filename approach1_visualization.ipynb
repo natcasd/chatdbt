{
 "cells": [
  {
   "cell_type": "markdown",
   "metadata": {},
   "source": [
    "** note you need to restart kernel in order to register changes you made to modules (approach1 and approach2)"
   ]
  },
  {
   "cell_type": "code",
   "execution_count": 5,
   "metadata": {},
   "outputs": [],
   "source": [
    "import json\n",
    "\n",
    "def get_dataset(dataset_string):\n",
    "  with open(dataset_string, 'r') as file:\n",
    "      data = json.load(file)\n",
    "  return data"
   ]
  },
  {
   "cell_type": "markdown",
   "metadata": {},
   "source": [
    "### sample code to test different approaches w/ different models, also different iterations of synthetic dataset"
   ]
  },
  {
   "cell_type": "code",
   "execution_count": 7,
   "metadata": {},
   "outputs": [
    {
     "name": "stdout",
     "output_type": "stream",
     "text": [
      "Groq client initialized with model: llama-3.3-70b-versatile\n"
     ]
    },
    {
     "name": "stderr",
     "output_type": "stream",
     "text": [
      "Processing records: 100%|██████████| 5/5 [00:02<00:00,  1.82record/s]"
     ]
    },
    {
     "name": "stdout",
     "output_type": "stream",
     "text": [
      "accuracy of model over 5 generated records: 0.8\n",
      "precision of model over 5 generated records: 0.75\n",
      "recall of model over 5 generated records: 1.0\n",
      "f1 of model over 5 generated records: 0.8571428571428571\n"
     ]
    },
    {
     "name": "stderr",
     "output_type": "stream",
     "text": [
      "\n"
     ]
    }
   ],
   "source": [
    "from approach1 import approach1\n",
    "# from approach2 import approach2\n",
    "from llms.llm_interaction import GroqClient\n",
    "\n",
    "patient_records2 = get_dataset('datasets/patient_records2.json')\n",
    "llm_client = GroqClient(model=\"llama-3.3-70b-versatile\")\n",
    "\n",
    "output = approach1(patient_records2[0:5], llm_client)\n",
    "# pred, true = approach2(patient_records2[0:5], llm_client)"
   ]
  },
  {
   "cell_type": "code",
   "execution_count": 3,
   "metadata": {},
   "outputs": [],
   "source": [
    "default_template = (\"\"\"\n",
    "                    Given the following patient record, identify if it matches the following semantic regex pattern: {regex} \n",
    "Return either true OR false, nothing else.\\n\\nPatient Record: {record_text}\"\"\")\n",
    "\n",
    "prompt_template0 = (\"\"\"\n",
    "Patient Data (Natural Language):\n",
    "{record_text}\n",
    "\n",
    "Context:\n",
    "Extract semantic symbols from the provided patient data and determine if a match exists.\n",
    "\n",
    "Task:\n",
    "Determine whether at least one match of the following semantic regex is implied or explicitly present in the patient data above.\n",
    "\n",
    "Semantic Regex:\n",
    "{regex}\n",
    "\n",
    "Return exactly one word: \"True\" or \"False\".\n",
    "\"\"\")\n",
    "\n",
    "prompt_template1 = (\"\"\"\n",
    "Instruction: Given the following patient data, identify if it matches the following semantic regex pattern: {regex}. Return either true or false, nothing else.\n",
    "                    \n",
    "Patient Data (Natural Language): {record_text}\n",
    "\"\"\")\n",
    "\n",
    "prompt_template2 = (\"\"\"\n",
    "You are a clinical language analysis system.\n",
    "\n",
    "Input:\n",
    "- Patient Record: {record_text}\n",
    "- Semantic Regex Pattern: {regex}\n",
    "\n",
    "Objective:\n",
    "Assess whether the patient record semantically satisfies the meaning of the regex.\n",
    "\n",
    "Output:\n",
    "Respond only with one word: True or False. Do not include explanations.\n",
    "\"\"\")\n",
    "\n",
    "prompt_template3 = (\"\"\"\n",
    "Question:\n",
    "Does the following patient record match the meaning of the given semantic regex?\n",
    "\n",
    "Semantic Regex: {regex}\n",
    "\n",
    "Patient Record: {record_text}\n",
    "\n",
    "Answer with a single Boolean value: True or False.\n",
    "\"\"\")\n"
   ]
  },
  {
   "cell_type": "code",
   "execution_count": 23,
   "metadata": {},
   "outputs": [
    {
     "name": "stdout",
     "output_type": "stream",
     "text": [
      "Groq client initialized with model: llama-3.3-70b-versatile\n"
     ]
    },
    {
     "name": "stderr",
     "output_type": "stream",
     "text": [
      "Processing records: 100%|██████████| 25/25 [00:50<00:00,  2.03s/record]\n"
     ]
    },
    {
     "name": "stdout",
     "output_type": "stream",
     "text": [
      "accuracy of model over 25 generated records: 0.68\n",
      "precision of model over 25 generated records: 0.6190476190476191\n",
      "recall of model over 25 generated records: 1.0\n",
      "f1 of model over 25 generated records: 0.7647058823529412\n",
      "{'approach': 'Approach 1', 'dataset': 'not defined', 'accuracy': 0.68, 'precision': 0.6190476190476191, 'recall': 1.0, 'f1': 0.7647058823529412, 'time_elapsed': 50.64864206314087, 'model': 'llama-3.3-70b-versatile', 'provider': 'groq'}\n"
     ]
    },
    {
     "name": "stderr",
     "output_type": "stream",
     "text": [
      "Processing records: 100%|██████████| 25/25 [01:46<00:00,  4.27s/record]\n"
     ]
    },
    {
     "name": "stdout",
     "output_type": "stream",
     "text": [
      "accuracy of model over 25 generated records: 0.76\n",
      "precision of model over 25 generated records: 0.6842105263157895\n",
      "recall of model over 25 generated records: 1.0\n",
      "f1 of model over 25 generated records: 0.8125000000000001\n",
      "{'approach': 'Approach 1', 'dataset': 'not defined', 'accuracy': 0.76, 'precision': 0.6842105263157895, 'recall': 1.0, 'f1': 0.8125000000000001, 'time_elapsed': 106.70308899879456, 'model': 'llama-3.3-70b-versatile', 'provider': 'groq'}\n"
     ]
    },
    {
     "name": "stderr",
     "output_type": "stream",
     "text": [
      "Processing records: 100%|██████████| 25/25 [01:42<00:00,  4.11s/record]\n"
     ]
    },
    {
     "name": "stdout",
     "output_type": "stream",
     "text": [
      "accuracy of model over 25 generated records: 0.72\n",
      "precision of model over 25 generated records: 0.6666666666666666\n",
      "recall of model over 25 generated records: 0.9230769230769231\n",
      "f1 of model over 25 generated records: 0.7741935483870968\n",
      "{'approach': 'Approach 1', 'dataset': 'not defined', 'accuracy': 0.72, 'precision': 0.6666666666666666, 'recall': 0.9230769230769231, 'f1': 0.7741935483870968, 'time_elapsed': 102.70503687858582, 'model': 'llama-3.3-70b-versatile', 'provider': 'groq'}\n"
     ]
    },
    {
     "name": "stderr",
     "output_type": "stream",
     "text": [
      "Processing records: 100%|██████████| 25/25 [01:26<00:00,  3.44s/record]\n"
     ]
    },
    {
     "name": "stdout",
     "output_type": "stream",
     "text": [
      "accuracy of model over 25 generated records: 0.68\n",
      "precision of model over 25 generated records: 0.7272727272727273\n",
      "recall of model over 25 generated records: 0.6153846153846154\n",
      "f1 of model over 25 generated records: 0.6666666666666667\n",
      "{'approach': 'Approach 1', 'dataset': 'not defined', 'accuracy': 0.68, 'precision': 0.7272727272727273, 'recall': 0.6153846153846154, 'f1': 0.6666666666666667, 'time_elapsed': 86.04118204116821, 'model': 'llama-3.3-70b-versatile', 'provider': 'groq'}\n"
     ]
    },
    {
     "name": "stderr",
     "output_type": "stream",
     "text": [
      "Processing records: 100%|██████████| 25/25 [01:36<00:00,  3.85s/record]\n"
     ]
    },
    {
     "name": "stdout",
     "output_type": "stream",
     "text": [
      "accuracy of model over 25 generated records: 0.52\n",
      "precision of model over 25 generated records: 1.0\n",
      "recall of model over 25 generated records: 0.07692307692307693\n",
      "f1 of model over 25 generated records: 0.14285714285714288\n",
      "{'approach': 'Approach 1', 'dataset': 'not defined', 'accuracy': 0.52, 'precision': 1.0, 'recall': 0.07692307692307693, 'f1': 0.14285714285714288, 'time_elapsed': 96.33387970924377, 'model': 'llama-3.3-70b-versatile', 'provider': 'groq'}\n",
      "Groq client initialized with model: qwen-2.5-32b\n"
     ]
    },
    {
     "name": "stderr",
     "output_type": "stream",
     "text": [
      "Processing records: 100%|██████████| 25/25 [00:58<00:00,  2.33s/record]\n"
     ]
    },
    {
     "name": "stdout",
     "output_type": "stream",
     "text": [
      "accuracy of model over 25 generated records: 0.92\n",
      "precision of model over 25 generated records: 0.8666666666666667\n",
      "recall of model over 25 generated records: 1.0\n",
      "f1 of model over 25 generated records: 0.9285714285714286\n",
      "{'approach': 'Approach 1', 'dataset': 'not defined', 'accuracy': 0.92, 'precision': 0.8666666666666667, 'recall': 1.0, 'f1': 0.9285714285714286, 'time_elapsed': 58.22036600112915, 'model': 'qwen-2.5-32b', 'provider': 'groq'}\n"
     ]
    },
    {
     "name": "stderr",
     "output_type": "stream",
     "text": [
      "Processing records: 100%|██████████| 25/25 [02:42<00:00,  6.50s/record]\n"
     ]
    },
    {
     "name": "stdout",
     "output_type": "stream",
     "text": [
      "accuracy of model over 25 generated records: 0.8\n",
      "precision of model over 25 generated records: 0.7222222222222222\n",
      "recall of model over 25 generated records: 1.0\n",
      "f1 of model over 25 generated records: 0.8387096774193548\n",
      "{'approach': 'Approach 1', 'dataset': 'not defined', 'accuracy': 0.8, 'precision': 0.7222222222222222, 'recall': 1.0, 'f1': 0.8387096774193548, 'time_elapsed': 162.41896176338196, 'model': 'qwen-2.5-32b', 'provider': 'groq'}\n"
     ]
    },
    {
     "name": "stderr",
     "output_type": "stream",
     "text": [
      "Processing records: 100%|██████████| 25/25 [07:50<00:00, 18.83s/record]  \n"
     ]
    },
    {
     "name": "stdout",
     "output_type": "stream",
     "text": [
      "accuracy of model over 25 generated records: 0.96\n",
      "precision of model over 25 generated records: 1.0\n",
      "recall of model over 25 generated records: 0.9230769230769231\n",
      "f1 of model over 25 generated records: 0.9600000000000001\n",
      "{'approach': 'Approach 1', 'dataset': 'not defined', 'accuracy': 0.96, 'precision': 1.0, 'recall': 0.9230769230769231, 'f1': 0.9600000000000001, 'time_elapsed': 470.7652931213379, 'model': 'qwen-2.5-32b', 'provider': 'groq'}\n"
     ]
    },
    {
     "name": "stderr",
     "output_type": "stream",
     "text": [
      "Processing records: 100%|██████████| 25/25 [02:27<00:00,  5.91s/record]\n"
     ]
    },
    {
     "name": "stdout",
     "output_type": "stream",
     "text": [
      "accuracy of model over 25 generated records: 0.88\n",
      "precision of model over 25 generated records: 0.8125\n",
      "recall of model over 25 generated records: 1.0\n",
      "f1 of model over 25 generated records: 0.896551724137931\n",
      "{'approach': 'Approach 1', 'dataset': 'not defined', 'accuracy': 0.88, 'precision': 0.8125, 'recall': 1.0, 'f1': 0.896551724137931, 'time_elapsed': 147.81324887275696, 'model': 'qwen-2.5-32b', 'provider': 'groq'}\n"
     ]
    },
    {
     "name": "stderr",
     "output_type": "stream",
     "text": [
      "Processing records: 100%|██████████| 25/25 [02:09<00:00,  5.17s/record]\n"
     ]
    },
    {
     "name": "stdout",
     "output_type": "stream",
     "text": [
      "accuracy of model over 25 generated records: 0.8\n",
      "precision of model over 25 generated records: 1.0\n",
      "recall of model over 25 generated records: 0.6153846153846154\n",
      "f1 of model over 25 generated records: 0.761904761904762\n",
      "{'approach': 'Approach 1', 'dataset': 'not defined', 'accuracy': 0.8, 'precision': 1.0, 'recall': 0.6153846153846154, 'f1': 0.761904761904762, 'time_elapsed': 129.20366621017456, 'model': 'qwen-2.5-32b', 'provider': 'groq'}\n",
      "Groq client initialized with model: gemma2-9b-it\n"
     ]
    },
    {
     "name": "stderr",
     "output_type": "stream",
     "text": [
      "Processing records: 100%|██████████| 25/25 [00:06<00:00,  3.92record/s]\n"
     ]
    },
    {
     "name": "stdout",
     "output_type": "stream",
     "text": [
      "accuracy of model over 25 generated records: 0.8\n",
      "precision of model over 25 generated records: 0.7222222222222222\n",
      "recall of model over 25 generated records: 1.0\n",
      "f1 of model over 25 generated records: 0.8387096774193548\n",
      "{'approach': 'Approach 1', 'dataset': 'not defined', 'accuracy': 0.8, 'precision': 0.7222222222222222, 'recall': 1.0, 'f1': 0.8387096774193548, 'time_elapsed': 6.380154848098755, 'model': 'gemma2-9b-it', 'provider': 'groq'}\n"
     ]
    },
    {
     "name": "stderr",
     "output_type": "stream",
     "text": [
      "Processing records: 100%|██████████| 25/25 [01:07<00:00,  2.70s/record]\n"
     ]
    },
    {
     "name": "stdout",
     "output_type": "stream",
     "text": [
      "accuracy of model over 25 generated records: 0.76\n",
      "precision of model over 25 generated records: 0.6842105263157895\n",
      "recall of model over 25 generated records: 1.0\n",
      "f1 of model over 25 generated records: 0.8125000000000001\n",
      "{'approach': 'Approach 1', 'dataset': 'not defined', 'accuracy': 0.76, 'precision': 0.6842105263157895, 'recall': 1.0, 'f1': 0.8125000000000001, 'time_elapsed': 67.44770002365112, 'model': 'gemma2-9b-it', 'provider': 'groq'}\n"
     ]
    },
    {
     "name": "stderr",
     "output_type": "stream",
     "text": [
      "Processing records: 100%|██████████| 25/25 [01:04<00:00,  2.58s/record]\n"
     ]
    },
    {
     "name": "stdout",
     "output_type": "stream",
     "text": [
      "accuracy of model over 25 generated records: 0.88\n",
      "precision of model over 25 generated records: 0.8125\n",
      "recall of model over 25 generated records: 1.0\n",
      "f1 of model over 25 generated records: 0.896551724137931\n",
      "{'approach': 'Approach 1', 'dataset': 'not defined', 'accuracy': 0.88, 'precision': 0.8125, 'recall': 1.0, 'f1': 0.896551724137931, 'time_elapsed': 64.41764307022095, 'model': 'gemma2-9b-it', 'provider': 'groq'}\n"
     ]
    },
    {
     "name": "stderr",
     "output_type": "stream",
     "text": [
      "Processing records: 100%|██████████| 25/25 [01:06<00:00,  2.65s/record]\n"
     ]
    },
    {
     "name": "stdout",
     "output_type": "stream",
     "text": [
      "accuracy of model over 25 generated records: 0.8\n",
      "precision of model over 25 generated records: 0.7222222222222222\n",
      "recall of model over 25 generated records: 1.0\n",
      "f1 of model over 25 generated records: 0.8387096774193548\n",
      "{'approach': 'Approach 1', 'dataset': 'not defined', 'accuracy': 0.8, 'precision': 0.7222222222222222, 'recall': 1.0, 'f1': 0.8387096774193548, 'time_elapsed': 66.22387719154358, 'model': 'gemma2-9b-it', 'provider': 'groq'}\n"
     ]
    },
    {
     "name": "stderr",
     "output_type": "stream",
     "text": [
      "Processing records: 100%|██████████| 25/25 [00:32<00:00,  1.29s/record]"
     ]
    },
    {
     "name": "stdout",
     "output_type": "stream",
     "text": [
      "accuracy of model over 25 generated records: 0.92\n",
      "precision of model over 25 generated records: 0.8666666666666667\n",
      "recall of model over 25 generated records: 1.0\n",
      "f1 of model over 25 generated records: 0.9285714285714286\n",
      "{'approach': 'Approach 1', 'dataset': 'not defined', 'accuracy': 0.92, 'precision': 0.8666666666666667, 'recall': 1.0, 'f1': 0.9285714285714286, 'time_elapsed': 32.242408990859985, 'model': 'gemma2-9b-it', 'provider': 'groq'}\n"
     ]
    },
    {
     "name": "stderr",
     "output_type": "stream",
     "text": [
      "\n"
     ]
    }
   ],
   "source": [
    "import matplotlib.pyplot as plt\n",
    "import seaborn as sns\n",
    "import pandas as pd\n",
    "from metrics.metrics import f1_score\n",
    "from approach1 import approach1\n",
    "\n",
    "\n",
    "def run_approach1_on_models(patient_records, models, prompt_templates):\n",
    "    rows = []\n",
    "    for model in models:\n",
    "        llm_client = GroqClient(model=model)\n",
    "        for i, template in enumerate(prompt_templates):\n",
    "            output = approach1(patient_records, llm_client, prompt_template=template)\n",
    "            print(output)\n",
    "            row = {\n",
    "                \"model\": model,\n",
    "                \"id\": str(i),\n",
    "                \"f1\": output['f1'],\n",
    "                \"time-elapsed\": output['time_elapsed']\n",
    "                \n",
    "            }\n",
    "            rows.append(row)\n",
    "    return rows\n",
    "# example usage\n",
    "models = [\"llama-3.3-70b-versatile\", \"qwen-2.5-32b\", \"gemma2-9b-it\"]\n",
    "prompt_templates = [default_template, prompt_template0, prompt_template1, prompt_template2, prompt_template3]\n",
    "results = run_approach1_on_models(patient_records2[:25], models, prompt_templates)\n",
    "df = pd.DataFrame(results)"
   ]
  },
  {
   "cell_type": "code",
   "execution_count": 24,
   "metadata": {},
   "outputs": [
    {
     "data": {
      "text/html": [
       "<div>\n",
       "<style scoped>\n",
       "    .dataframe tbody tr th:only-of-type {\n",
       "        vertical-align: middle;\n",
       "    }\n",
       "\n",
       "    .dataframe tbody tr th {\n",
       "        vertical-align: top;\n",
       "    }\n",
       "\n",
       "    .dataframe thead th {\n",
       "        text-align: right;\n",
       "    }\n",
       "</style>\n",
       "<table border=\"1\" class=\"dataframe\">\n",
       "  <thead>\n",
       "    <tr style=\"text-align: right;\">\n",
       "      <th></th>\n",
       "      <th>model</th>\n",
       "      <th>id</th>\n",
       "      <th>f1</th>\n",
       "      <th>time-elapsed</th>\n",
       "    </tr>\n",
       "  </thead>\n",
       "  <tbody>\n",
       "    <tr>\n",
       "      <th>0</th>\n",
       "      <td>llama-3.3-70b-versatile</td>\n",
       "      <td>0</td>\n",
       "      <td>0.764706</td>\n",
       "      <td>50.648642</td>\n",
       "    </tr>\n",
       "    <tr>\n",
       "      <th>1</th>\n",
       "      <td>llama-3.3-70b-versatile</td>\n",
       "      <td>1</td>\n",
       "      <td>0.812500</td>\n",
       "      <td>106.703089</td>\n",
       "    </tr>\n",
       "    <tr>\n",
       "      <th>2</th>\n",
       "      <td>llama-3.3-70b-versatile</td>\n",
       "      <td>2</td>\n",
       "      <td>0.774194</td>\n",
       "      <td>102.705037</td>\n",
       "    </tr>\n",
       "    <tr>\n",
       "      <th>3</th>\n",
       "      <td>llama-3.3-70b-versatile</td>\n",
       "      <td>3</td>\n",
       "      <td>0.666667</td>\n",
       "      <td>86.041182</td>\n",
       "    </tr>\n",
       "    <tr>\n",
       "      <th>4</th>\n",
       "      <td>llama-3.3-70b-versatile</td>\n",
       "      <td>4</td>\n",
       "      <td>0.142857</td>\n",
       "      <td>96.333880</td>\n",
       "    </tr>\n",
       "    <tr>\n",
       "      <th>5</th>\n",
       "      <td>qwen-2.5-32b</td>\n",
       "      <td>0</td>\n",
       "      <td>0.928571</td>\n",
       "      <td>58.220366</td>\n",
       "    </tr>\n",
       "    <tr>\n",
       "      <th>6</th>\n",
       "      <td>qwen-2.5-32b</td>\n",
       "      <td>1</td>\n",
       "      <td>0.838710</td>\n",
       "      <td>162.418962</td>\n",
       "    </tr>\n",
       "    <tr>\n",
       "      <th>7</th>\n",
       "      <td>qwen-2.5-32b</td>\n",
       "      <td>2</td>\n",
       "      <td>0.960000</td>\n",
       "      <td>470.765293</td>\n",
       "    </tr>\n",
       "    <tr>\n",
       "      <th>8</th>\n",
       "      <td>qwen-2.5-32b</td>\n",
       "      <td>3</td>\n",
       "      <td>0.896552</td>\n",
       "      <td>147.813249</td>\n",
       "    </tr>\n",
       "    <tr>\n",
       "      <th>9</th>\n",
       "      <td>qwen-2.5-32b</td>\n",
       "      <td>4</td>\n",
       "      <td>0.761905</td>\n",
       "      <td>129.203666</td>\n",
       "    </tr>\n",
       "    <tr>\n",
       "      <th>10</th>\n",
       "      <td>gemma2-9b-it</td>\n",
       "      <td>0</td>\n",
       "      <td>0.838710</td>\n",
       "      <td>6.380155</td>\n",
       "    </tr>\n",
       "    <tr>\n",
       "      <th>11</th>\n",
       "      <td>gemma2-9b-it</td>\n",
       "      <td>1</td>\n",
       "      <td>0.812500</td>\n",
       "      <td>67.447700</td>\n",
       "    </tr>\n",
       "    <tr>\n",
       "      <th>12</th>\n",
       "      <td>gemma2-9b-it</td>\n",
       "      <td>2</td>\n",
       "      <td>0.896552</td>\n",
       "      <td>64.417643</td>\n",
       "    </tr>\n",
       "    <tr>\n",
       "      <th>13</th>\n",
       "      <td>gemma2-9b-it</td>\n",
       "      <td>3</td>\n",
       "      <td>0.838710</td>\n",
       "      <td>66.223877</td>\n",
       "    </tr>\n",
       "    <tr>\n",
       "      <th>14</th>\n",
       "      <td>gemma2-9b-it</td>\n",
       "      <td>4</td>\n",
       "      <td>0.928571</td>\n",
       "      <td>32.242409</td>\n",
       "    </tr>\n",
       "  </tbody>\n",
       "</table>\n",
       "</div>"
      ],
      "text/plain": [
       "                      model id        f1  time-elapsed\n",
       "0   llama-3.3-70b-versatile  0  0.764706     50.648642\n",
       "1   llama-3.3-70b-versatile  1  0.812500    106.703089\n",
       "2   llama-3.3-70b-versatile  2  0.774194    102.705037\n",
       "3   llama-3.3-70b-versatile  3  0.666667     86.041182\n",
       "4   llama-3.3-70b-versatile  4  0.142857     96.333880\n",
       "5              qwen-2.5-32b  0  0.928571     58.220366\n",
       "6              qwen-2.5-32b  1  0.838710    162.418962\n",
       "7              qwen-2.5-32b  2  0.960000    470.765293\n",
       "8              qwen-2.5-32b  3  0.896552    147.813249\n",
       "9              qwen-2.5-32b  4  0.761905    129.203666\n",
       "10             gemma2-9b-it  0  0.838710      6.380155\n",
       "11             gemma2-9b-it  1  0.812500     67.447700\n",
       "12             gemma2-9b-it  2  0.896552     64.417643\n",
       "13             gemma2-9b-it  3  0.838710     66.223877\n",
       "14             gemma2-9b-it  4  0.928571     32.242409"
      ]
     },
     "execution_count": 24,
     "metadata": {},
     "output_type": "execute_result"
    }
   ],
   "source": [
    "df"
   ]
  },
  {
   "cell_type": "code",
   "execution_count": 25,
   "metadata": {},
   "outputs": [
    {
     "data": {
      "image/png": "[encoded data removed]",
      "text/plain": [
       "<Figure size 1000x600 with 1 Axes>"
      ]
     },
     "metadata": {},
     "output_type": "display_data"
    }
   ],
   "source": [
    "plt.figure(figsize=(10, 6))\n",
    "sns.barplot(data=df, x=\"model\", y=\"f1\", hue=\"id\")\n",
    "plt.title(\"F1 Score by Model and Prompt\")\n",
    "plt.ylim(0, 1)\n",
    "plt.legend(title=\"Prompt Template\")\n",
    "plt.tight_layout()\n",
    "plt.show()\n"
   ]
  },
  {
   "cell_type": "code",
   "execution_count": 27,
   "metadata": {},
   "outputs": [
    {
     "data": {
      "image/png": "[encoded data removed]",
      "text/plain": [
       "<Figure size 1000x600 with 1 Axes>"
      ]
     },
     "metadata": {},
     "output_type": "display_data"
    }
   ],
   "source": [
    "plt.figure(figsize=(10, 6))\n",
    "sns.barplot(data=df, x=\"model\", y=\"time-elapsed\", hue=\"id\")\n",
    "plt.title(\"Time Elapsed by Model and Prompt\")\n",
    "plt.ylabel(\"Time (seconds)\")\n",
    "plt.legend(title=\"Prompt Template\")\n",
    "plt.xticks(rotation=45)\n",
    "plt.tight_layout()\n",
    "plt.show()\n",
    "\n"
   ]
  },
  {
   "cell_type": "code",
   "execution_count": 22,
   "metadata": {},
   "outputs": [
    {
     "name": "stderr",
     "output_type": "stream",
     "text": [
      "Processing records: 100%|██████████| 5/5 [00:01<00:00,  2.63record/s]"
     ]
    },
    {
     "name": "stdout",
     "output_type": "stream",
     "text": [
      "accuracy of model over 5 generated records: 1.0\n",
      "precision of model over 5 generated records: 1.0\n",
      "recall of model over 5 generated records: 1.0\n",
      "f1 of model over 5 generated records: 1.0\n"
     ]
    },
    {
     "name": "stderr",
     "output_type": "stream",
     "text": [
      "\n"
     ]
    }
   ],
   "source": [
    "#prompt_template0 with llama\n",
    "pred, true = approach1(patient_records2[0:5], llm_client, prompt_template=prompt_template0)"
   ]
  },
  {
   "cell_type": "code",
   "execution_count": 23,
   "metadata": {},
   "outputs": [
    {
     "name": "stderr",
     "output_type": "stream",
     "text": [
      "Processing records: 100%|██████████| 5/5 [00:01<00:00,  2.73record/s]"
     ]
    },
    {
     "name": "stdout",
     "output_type": "stream",
     "text": [
      "accuracy of model over 5 generated records: 1.0\n",
      "precision of model over 5 generated records: 1.0\n",
      "recall of model over 5 generated records: 1.0\n",
      "f1 of model over 5 generated records: 1.0\n"
     ]
    },
    {
     "name": "stderr",
     "output_type": "stream",
     "text": [
      "\n"
     ]
    }
   ],
   "source": [
    "#prompt_template0 with qwen\n",
    "pred, true = approach1(patient_records2[0:5], llm_client2, prompt_template=prompt_template0)"
   ]
  },
  {
   "cell_type": "markdown",
   "metadata": {},
   "source": [
    "### playing around with prompt templates and dif models"
   ]
  },
  {
   "cell_type": "code",
   "execution_count": 8,
   "metadata": {},
   "outputs": [
    {
     "name": "stdout",
     "output_type": "stream",
     "text": [
      "OpenAI client initialized with model: gpt-4o\n",
      "Claude client initialized with model: claude-3-5-sonnet-20240620\n",
      "Groq client initialized with model: llama-3.3-70b-versatile\n"
     ]
    },
    {
     "name": "stderr",
     "output_type": "stream",
     "text": [
      "Processing records:  40%|████      | 2/5 [00:00<00:00,  5.80record/s]"
     ]
    },
    {
     "name": "stdout",
     "output_type": "stream",
     "text": [
      "Error generating text with OpenAI: Error code: 401 - {'error': {'message': 'Incorrect API key provided: your_ope************here. You can find your API key at https://platform.openai.com/account/api-keys.', 'type': 'invalid_request_error', 'param': None, 'code': 'invalid_api_key'}}\n",
      "Error generating text with OpenAI: Error code: 401 - {'error': {'message': 'Incorrect API key provided: your_ope************here. You can find your API key at https://platform.openai.com/account/api-keys.', 'type': 'invalid_request_error', 'param': None, 'code': 'invalid_api_key'}}\n"
     ]
    },
    {
     "name": "stderr",
     "output_type": "stream",
     "text": [
      "Processing records:  80%|████████  | 4/5 [00:00<00:00,  6.82record/s]"
     ]
    },
    {
     "name": "stdout",
     "output_type": "stream",
     "text": [
      "Error generating text with OpenAI: Error code: 401 - {'error': {'message': 'Incorrect API key provided: your_ope************here. You can find your API key at https://platform.openai.com/account/api-keys.', 'type': 'invalid_request_error', 'param': None, 'code': 'invalid_api_key'}}\n",
      "Error generating text with OpenAI: Error code: 401 - {'error': {'message': 'Incorrect API key provided: your_ope************here. You can find your API key at https://platform.openai.com/account/api-keys.', 'type': 'invalid_request_error', 'param': None, 'code': 'invalid_api_key'}}\n"
     ]
    },
    {
     "name": "stderr",
     "output_type": "stream",
     "text": [
      "Processing records: 100%|██████████| 5/5 [00:00<00:00,  6.59record/s]\n"
     ]
    },
    {
     "name": "stdout",
     "output_type": "stream",
     "text": [
      "Error generating text with OpenAI: Error code: 401 - {'error': {'message': 'Incorrect API key provided: your_ope************here. You can find your API key at https://platform.openai.com/account/api-keys.', 'type': 'invalid_request_error', 'param': None, 'code': 'invalid_api_key'}}\n",
      "accuracy of model over 5 generated records: 0.4\n",
      "precision of model over 5 generated records: 0.0\n",
      "recall of model over 5 generated records: 0.0\n",
      "f1 of model over 5 generated records: 0.0\n"
     ]
    },
    {
     "name": "stderr",
     "output_type": "stream",
     "text": [
      "Processing records:  60%|██████    | 3/5 [00:00<00:00,  7.53record/s]"
     ]
    },
    {
     "name": "stdout",
     "output_type": "stream",
     "text": [
      "Error generating text with Claude: Error code: 401 - {'type': 'error', 'error': {'type': 'authentication_error', 'message': 'invalid x-api-key'}}\n",
      "Error generating text with Claude: Error code: 401 - {'type': 'error', 'error': {'type': 'authentication_error', 'message': 'invalid x-api-key'}}\n",
      "Error generating text with Claude: Error code: 401 - {'type': 'error', 'error': {'type': 'authentication_error', 'message': 'invalid x-api-key'}}\n"
     ]
    },
    {
     "name": "stderr",
     "output_type": "stream",
     "text": [
      "Processing records: 100%|██████████| 5/5 [00:00<00:00,  8.70record/s]\n"
     ]
    },
    {
     "name": "stdout",
     "output_type": "stream",
     "text": [
      "Error generating text with Claude: Error code: 401 - {'type': 'error', 'error': {'type': 'authentication_error', 'message': 'invalid x-api-key'}}\n",
      "Error generating text with Claude: Error code: 401 - {'type': 'error', 'error': {'type': 'authentication_error', 'message': 'invalid x-api-key'}}\n",
      "accuracy of model over 5 generated records: 0.4\n",
      "precision of model over 5 generated records: 0.0\n",
      "recall of model over 5 generated records: 0.0\n",
      "f1 of model over 5 generated records: 0.0\n"
     ]
    },
    {
     "name": "stderr",
     "output_type": "stream",
     "text": [
      "Processing records: 100%|██████████| 5/5 [00:09<00:00,  1.93s/record]"
     ]
    },
    {
     "name": "stdout",
     "output_type": "stream",
     "text": [
      "accuracy of model over 5 generated records: 0.4\n",
      "precision of model over 5 generated records: 0.0\n",
      "recall of model over 5 generated records: 0.0\n",
      "f1 of model over 5 generated records: 0.0\n"
     ]
    },
    {
     "name": "stderr",
     "output_type": "stream",
     "text": [
      "\n"
     ]
    }
   ],
   "source": [
    "from llms.llm_interaction import OpenAIClient, AnthropicClient\n",
    "\n",
    "gpt4o = OpenAIClient(model=\"gpt-4o\")\n",
    "sonnet = AnthropicClient(model=\"claude-3-5-sonnet-20240620\")\n",
    "versatile = GroqClient(model=\"llama-3.3-70b-versatile\")\n",
    "\n",
    "prompt_template = \"Check if this semantic regex - {regex} - exists in the following patient record - {record_text}.\"\n",
    "system_prompt = \"You are a helpful AI assistant that only answers True or False based on patient data and provided semantic regex matching.\"\n",
    "\n",
    "pred, true = approach1(patient_records2[0:5], gpt4o, prompt_template=prompt_template, system_prompt=system_prompt)\n",
    "pred, true = approach1(patient_records2[0:5], sonnet, prompt_template=prompt_template, system_prompt=system_prompt)\n",
    "pred, true = approach1(patient_records2[0:5], versatile, prompt_template=prompt_template, system_prompt=system_prompt)\n",
    "\n"
   ]
  }
 ],
 "metadata": {
  "kernelspec": {
   "display_name": "alfred",
   "language": "python",
   "name": "python3"
  },
  "language_info": {
   "codemirror_mode": {
    "name": "ipython",
    "version": 3
   },
   "file_extension": ".py",
   "mimetype": "text/x-python",
   "name": "python",
   "nbconvert_exporter": "python",
   "pygments_lexer": "ipython3",
   "version": "3.11.7"
  }
 },
 "nbformat": 4,
 "nbformat_minor": 2
}
